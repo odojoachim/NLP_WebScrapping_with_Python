{
 "cells": [
  {
   "cell_type": "code",
   "execution_count": 46,
   "metadata": {
    "collapsed": true
   },
   "outputs": [],
   "source": [
    "# Task 1: 1.Go through the reviews (last 6-10 months) of consumer feedback\n",
    "\n",
    "# I scrapped the data for all and just cut last year out of the data frame"
   ]
  },
  {
   "cell_type": "code",
   "execution_count": 47,
   "metadata": {
    "collapsed": true
   },
   "outputs": [],
   "source": [
    "# First I gone on the website into inspect element form to get the data. \n",
    "# Challenge number 1: I had a problem with finding the text in html code as was hidden.\n",
    "# After longer inspection I found out that there are other websites pointing to the website. \n",
    "# Using this fact I sed beautiful Soup and request to get the data in txt file."
   ]
  },
  {
   "cell_type": "code",
   "execution_count": 48,
   "metadata": {
    "collapsed": true
   },
   "outputs": [],
   "source": [
    "# request and beautiful soup are popular packages for webscrapping in Python"
   ]
  },
  {
   "cell_type": "code",
   "execution_count": 49,
   "metadata": {
    "collapsed": true
   },
   "outputs": [],
   "source": [
    "import requests\n",
    "r = requests.get('https://mark.reevoo.com/reevoomark/embeddable_reviews?ajax=true&amp;locale=en-GB&amp;page=251&amp;per_page=20&amp;sku=CINSTY&amp;trkref=LV-GI#')"
   ]
  },
  {
   "cell_type": "code",
   "execution_count": 50,
   "metadata": {
    "collapsed": true
   },
   "outputs": [],
   "source": [
    "from bs4 import BeautifulSoup\n",
    "soup = BeautifulSoup(r.text, 'html.parser')"
   ]
  },
  {
   "cell_type": "code",
   "execution_count": 51,
   "metadata": {
    "collapsed": true
   },
   "outputs": [],
   "source": [
    "# Look for the all positive and all negative feedback on the website"
   ]
  },
  {
   "cell_type": "code",
   "execution_count": 52,
   "metadata": {
    "collapsed": true
   },
   "outputs": [],
   "source": [
    "results = soup.find_all('dd', attrs={'class':'pros'})\n",
    "results1 = soup.find_all('dd', attrs={'class': 'cons'})"
   ]
  },
  {
   "cell_type": "code",
   "execution_count": 53,
   "metadata": {},
   "outputs": [
    {
     "data": {
      "text/plain": [
       "20"
      ]
     },
     "execution_count": 53,
     "metadata": {},
     "output_type": "execute_result"
    }
   ],
   "source": [
    "len(results) # how many positive feedback we can find?"
   ]
  },
  {
   "cell_type": "code",
   "execution_count": 54,
   "metadata": {},
   "outputs": [
    {
     "data": {
      "text/plain": [
       "[<dd class=\"pros\">It was smooth and easy to set up.<br/>And most especially a great offer.</dd>,\n",
       " <dd class=\"pros\">All straight forward to deal with on line</dd>]"
      ]
     },
     "execution_count": 54,
     "metadata": {},
     "output_type": "execute_result"
    }
   ],
   "source": [
    "results[0:2] # print the result"
   ]
  },
  {
   "cell_type": "code",
   "execution_count": 55,
   "metadata": {},
   "outputs": [
    {
     "data": {
      "text/plain": [
       "<dd class=\"pros\">It was smooth and easy to set up.<br/>And most especially a great offer.</dd>"
      ]
     },
     "execution_count": 55,
     "metadata": {},
     "output_type": "execute_result"
    }
   ],
   "source": [
    "first_result = results[0]\n",
    "first_result"
   ]
  },
  {
   "cell_type": "code",
   "execution_count": 56,
   "metadata": {},
   "outputs": [
    {
     "data": {
      "text/plain": [
       "'It was smooth and easy to set up.And most especially a great offer.'"
      ]
     },
     "execution_count": 56,
     "metadata": {},
     "output_type": "execute_result"
    }
   ],
   "source": [
    "first_result.text # print the first result as a text"
   ]
  },
  {
   "cell_type": "code",
   "execution_count": 57,
   "metadata": {
    "collapsed": true
   },
   "outputs": [],
   "source": [
    "# Take all feedback on the side as a list of strings"
   ]
  },
  {
   "cell_type": "code",
   "execution_count": 58,
   "metadata": {},
   "outputs": [
    {
     "name": "stdout",
     "output_type": "stream",
     "text": [
      "('It was smooth and easy to set up.And most especially a great offer.',)\n",
      "('All straight forward to deal with on line',)\n",
      "('Web Site is very efficent',)\n",
      "('Price and cover',)\n",
      "('Speed of service and  unbeatable price',)\n",
      "('All good',)\n",
      "('Best price, easy comms and seem an established company.',)\n",
      "(\"Great customer service, you speak to someone in the UK, who understand your requirements and don't wait an age to get through. Sorted my change of policy first time with no issues. 5*****\",)\n",
      "('Great value for money',)\n",
      "('All the above',)\n",
      "('Ease of purchase',)\n",
      "('Competitive insurance rates.',)\n",
      "('Good value for what looks like wide range of cover.',)\n",
      "('Easy to purchase from your site. Very user friendly and no fuss',)\n",
      "('Excellent company, and price was equally excellent.',)\n",
      "('Cheapest quote I have found for this year.',)\n",
      "('Good priceAnswered phone quickly',)\n",
      "('The sales staff were extremely helpful, friendly and efficient. I had my car insurance sorted out in minutes.',)\n",
      "('Good price',)\n",
      "('All went well online',)\n"
     ]
    }
   ],
   "source": [
    "records = []\n",
    "for result in results:\n",
    "    positive = result.text,\n",
    "    records.append(positive),\n",
    "    print(positive)"
   ]
  },
  {
   "cell_type": "code",
   "execution_count": 59,
   "metadata": {},
   "outputs": [
    {
     "name": "stdout",
     "output_type": "stream",
     "text": [
      "('Reviewer left no comment',)\n",
      "('Reviewer left no comment',)\n",
      "('Nothing',)\n",
      "('Reviewer left no comment',)\n",
      "('Reviewer left no comment',)\n",
      "('No bad points',)\n",
      "(\"Nothing bad, you'll prob have to wait half an hour or so for email conformation of when taking out insurance. Not made a claim so can't comment on that.\",)\n",
      "('Nothing',)\n",
      "('Reviewer left no comment',)\n",
      "('No',)\n",
      "('None',)\n",
      "('Reviewer left no comment',)\n",
      "('The online dialogue was repetitive and inconsistent in parts.',)\n",
      "('The price could have been lower.',)\n",
      "('Reviewer left no comment',)\n",
      "('Could be even cheaper',)\n",
      "('I selected out of auto renew but paperwork said I was on this scheme',)\n",
      "('Reviewer left no comment',)\n",
      "('No free holiday',)\n",
      "('Reviewer left no comment',)\n"
     ]
    }
   ],
   "source": [
    "records1 = []\n",
    "for result in results1:\n",
    "    negative = result.text,\n",
    "    records1.append(negative),\n",
    "    print(negative)"
   ]
  },
  {
   "cell_type": "code",
   "execution_count": 60,
   "metadata": {},
   "outputs": [
    {
     "name": "stdout",
     "output_type": "stream",
     "text": [
      "[('It was smooth and easy to set up.And most especially a great offer.',), ('All straight forward to deal with on line',), ('Web Site is very efficent',), ('Price and cover',), ('Speed of service and  unbeatable price',), ('All good',), ('Best price, easy comms and seem an established company.',), (\"Great customer service, you speak to someone in the UK, who understand your requirements and don't wait an age to get through. Sorted my change of policy first time with no issues. 5*****\",), ('Great value for money',), ('All the above',), ('Ease of purchase',), ('Competitive insurance rates.',), ('Good value for what looks like wide range of cover.',), ('Easy to purchase from your site. Very user friendly and no fuss',), ('Excellent company, and price was equally excellent.',), ('Cheapest quote I have found for this year.',), ('Good priceAnswered phone quickly',), ('The sales staff were extremely helpful, friendly and efficient. I had my car insurance sorted out in minutes.',), ('Good price',), ('All went well online',)]\n"
     ]
    }
   ],
   "source": [
    "print(records)"
   ]
  },
  {
   "cell_type": "code",
   "execution_count": 61,
   "metadata": {},
   "outputs": [
    {
     "data": {
      "text/plain": [
       "['It was smooth and easy to set up.And most especially a great offer.',\n",
       " 'All straight forward to deal with on line',\n",
       " 'Web Site is very efficent',\n",
       " 'Price and cover',\n",
       " 'Speed of service and  unbeatable price',\n",
       " 'All good',\n",
       " 'Best price, easy comms and seem an established company.',\n",
       " \"Great customer service, you speak to someone in the UK, who understand your requirements and don't wait an age to get through. Sorted my change of policy first time with no issues. 5*****\",\n",
       " 'Great value for money',\n",
       " 'All the above',\n",
       " 'Ease of purchase',\n",
       " 'Competitive insurance rates.',\n",
       " 'Good value for what looks like wide range of cover.',\n",
       " 'Easy to purchase from your site. Very user friendly and no fuss',\n",
       " 'Excellent company, and price was equally excellent.',\n",
       " 'Cheapest quote I have found for this year.',\n",
       " 'Good priceAnswered phone quickly',\n",
       " 'The sales staff were extremely helpful, friendly and efficient. I had my car insurance sorted out in minutes.',\n",
       " 'Good price',\n",
       " 'All went well online']"
      ]
     },
     "execution_count": 61,
     "metadata": {},
     "output_type": "execute_result"
    }
   ],
   "source": [
    "flattened  = [val for sublist in records for val in sublist]\n",
    "flattened # flattened the result to remove inside brackets"
   ]
  },
  {
   "cell_type": "code",
   "execution_count": 62,
   "metadata": {},
   "outputs": [
    {
     "data": {
      "text/plain": [
       "['Reviewer left no comment',\n",
       " 'Reviewer left no comment',\n",
       " 'Nothing',\n",
       " 'Reviewer left no comment',\n",
       " 'Reviewer left no comment',\n",
       " 'No bad points',\n",
       " \"Nothing bad, you'll prob have to wait half an hour or so for email conformation of when taking out insurance. Not made a claim so can't comment on that.\",\n",
       " 'Nothing',\n",
       " 'Reviewer left no comment',\n",
       " 'No',\n",
       " 'None',\n",
       " 'Reviewer left no comment',\n",
       " 'The online dialogue was repetitive and inconsistent in parts.',\n",
       " 'The price could have been lower.',\n",
       " 'Reviewer left no comment',\n",
       " 'Could be even cheaper',\n",
       " 'I selected out of auto renew but paperwork said I was on this scheme',\n",
       " 'Reviewer left no comment',\n",
       " 'No free holiday',\n",
       " 'Reviewer left no comment']"
      ]
     },
     "execution_count": 62,
     "metadata": {},
     "output_type": "execute_result"
    }
   ],
   "source": [
    "flattened1 = [val for sublist in records1 for val in sublist]\n",
    "flattened1"
   ]
  },
  {
   "cell_type": "code",
   "execution_count": 63,
   "metadata": {
    "collapsed": true
   },
   "outputs": [],
   "source": [
    "# store the result as text file"
   ]
  },
  {
   "cell_type": "code",
   "execution_count": 64,
   "metadata": {
    "collapsed": true
   },
   "outputs": [],
   "source": [
    "with open('positive1.txt', 'w') as f:\n",
    "    for record in flattened:\n",
    "        f.write(record)\n",
    "        f.write('\\n')"
   ]
  },
  {
   "cell_type": "code",
   "execution_count": 65,
   "metadata": {
    "collapsed": true
   },
   "outputs": [],
   "source": [
    "with open('negative1.txt', 'w') as f:\n",
    "    for record in flattened1:\n",
    "        f.write(record)\n",
    "        f.write('\\n')"
   ]
  },
  {
   "cell_type": "code",
   "execution_count": 66,
   "metadata": {
    "collapsed": true
   },
   "outputs": [],
   "source": [
    "# I noticed that if I will take this approach it will take me ages to scrap the data and I will produce hundreds of txt files in one place. \n",
    "# I have decided to ask my friend for help and with her help we have constructed iteration loop to scrap the data pragmatically"
   ]
  },
  {
   "cell_type": "code",
   "execution_count": null,
   "metadata": {
    "collapsed": true
   },
   "outputs": [],
   "source": [
    "import requests\n",
    "from bs4 import BeautifulSoup\n",
    "import csv\n",
    "\n",
    "for x in range(1,4766):\n",
    "    rows = []\n",
    "    i = str(x)\n",
    "    r = requests.get(\"https://mark.reevoo.com/reevoomark/embeddable_reviews?ajax=true&amp;locale=en-GB&amp;page=\"+i+\"&amp;per_page=20&amp;sku=CINSTY&amp;trkref=LV-GI#\")\n",
    "    if r.status_code == 200:\n",
    "        soup = BeautifulSoup(r.text, \"html.parser\")\n",
    "        reviewsTags = soup.find_all(\"article\", \"review other-language reevoo_review comment good_bad_points\")\n",
    "    r.close()\n",
    "    for review in reviewsTags:\n",
    "        overall_score = review.find(\"span\",\"overall_score\").text.strip().encode(\"utf-8\")\n",
    "        reviewer_name = review.find(\"h4\",\"attribution-name\").text.strip().encode(\"utf-8\")\n",
    "        reviewer_locationSpan = review.find(\"h5\", \"attribution-details\").find(\"span\",class_=\"location\")\n",
    "        if reviewer_locationSpan is None:\n",
    "            reviewer_location = ' '\n",
    "        else :\n",
    "            reviewer_location = reviewer_locationSpan.text.strip().encode(\"utf-8\")\n",
    "        reviewer_pros = review.find(\"dd\",\"pros\").text.strip().encode(\"utf-8\")\n",
    "        reviewer_cons = review.find(\"dd\",\"cons\").text.strip().encode(\"utf-8\")\n",
    "        reviewer_scores = review.find(\"table\",\"scores\").find_all(\"tr\")\n",
    "        ease_of_purchase_score = ''\n",
    "        value_for_money_score = ''\n",
    "        overall_rating_score = ''\n",
    "        for tr in reviewer_scores:\n",
    "            title = tr.find(\"th\").text.strip().encode(\"utf-8\")\n",
    "            score = tr.find(\"span\",\"facet-bar\").text.strip().encode(\"utf-8\")\n",
    "            if title == 'Ease of purchase':\n",
    "                ease_of_purchase_score = score\n",
    "            if title == 'Value for money':\n",
    "                value_for_money_score = score\n",
    "            if title == 'Overall rating':\n",
    "                overall_rating_score = score\n",
    "        review_date_purchase = review.find(\"span\", \"date date_purchase\").text.strip().encode(\"utf-8\")\n",
    "        review_date_publish = review.find(\"span\", \"date date_publish\").text.strip().encode(\"utf-8\")\n",
    "\n",
    "        # create the required format before inserting to file:\n",
    "        row = [review_date_purchase,review_date_publish,reviewer_name,reviewer_location,reviewer_pros,reviewer_cons,overall_score,ease_of_purchase_score,value_for_money_score,overall_rating_score,'\\n']\n",
    "        rows.extend(row)\n",
    "    print('page {} completed'.format(i))\n",
    "\n",
    "    with open(\"result1.csv\",\"a\") as f:\n",
    "        writer = csv.writer(f)\n",
    "        writer.writerow(rows)"
   ]
  },
  {
   "cell_type": "code",
   "execution_count": 67,
   "metadata": {
    "collapsed": true
   },
   "outputs": [],
   "source": [
    "# The generated file was in csv file but with many repeated columns. \n",
    "# Using package dplyr in R I have merged the columns together in one file and took only the part of the data that I am interested in:\n",
    "# Last year"
   ]
  },
  {
   "cell_type": "code",
   "execution_count": null,
   "metadata": {
    "collapsed": true
   },
   "outputs": [],
   "source": []
  },
  {
   "cell_type": "code",
   "execution_count": 68,
   "metadata": {
    "collapsed": true
   },
   "outputs": [],
   "source": [
    "# Step 2: 2.Identify common strengths and pain points expressed by the customers."
   ]
  },
  {
   "cell_type": "code",
   "execution_count": 69,
   "metadata": {
    "collapsed": true
   },
   "outputs": [],
   "source": [
    "# The next step was to put the data into list and remove all unwanted repeated phrases such as: \"No response\""
   ]
  },
  {
   "cell_type": "code",
   "execution_count": 70,
   "metadata": {
    "collapsed": true
   },
   "outputs": [],
   "source": [
    "import pandas as pd"
   ]
  },
  {
   "cell_type": "code",
   "execution_count": 71,
   "metadata": {
    "collapsed": true
   },
   "outputs": [],
   "source": [
    "df = pd.read_csv(\"Scrapped.csv\")"
   ]
  },
  {
   "cell_type": "code",
   "execution_count": 72,
   "metadata": {},
   "outputs": [
    {
     "data": {
      "text/html": [
       "<div>\n",
       "<style>\n",
       "    .dataframe thead tr:only-child th {\n",
       "        text-align: right;\n",
       "    }\n",
       "\n",
       "    .dataframe thead th {\n",
       "        text-align: left;\n",
       "    }\n",
       "\n",
       "    .dataframe tbody tr th {\n",
       "        vertical-align: top;\n",
       "    }\n",
       "</style>\n",
       "<table border=\"1\" class=\"dataframe\">\n",
       "  <thead>\n",
       "    <tr style=\"text-align: right;\">\n",
       "      <th></th>\n",
       "      <th>Date1</th>\n",
       "      <th>Date2</th>\n",
       "      <th>Who</th>\n",
       "      <th>Where</th>\n",
       "      <th>Positive</th>\n",
       "      <th>Negative</th>\n",
       "      <th>Score</th>\n",
       "    </tr>\n",
       "  </thead>\n",
       "  <tbody>\n",
       "    <tr>\n",
       "      <th>0</th>\n",
       "      <td>14/04/2018</td>\n",
       "      <td>24-Apr-18</td>\n",
       "      <td>Marie</td>\n",
       "      <td>Grantham</td>\n",
       "      <td>Was so easy</td>\n",
       "      <td>I have not got any at the min</td>\n",
       "      <td>9 out of 10</td>\n",
       "    </tr>\n",
       "    <tr>\n",
       "      <th>1</th>\n",
       "      <td>14/04/2018</td>\n",
       "      <td>17-Apr-18</td>\n",
       "      <td>Michael</td>\n",
       "      <td>hemel hempstead</td>\n",
       "      <td>Very easy to use website. Very clear informati...</td>\n",
       "      <td>Reviewer left no comment</td>\n",
       "      <td>10 out of 10</td>\n",
       "    </tr>\n",
       "    <tr>\n",
       "      <th>2</th>\n",
       "      <td>14/04/2018</td>\n",
       "      <td>16-Apr-18</td>\n",
       "      <td>Jason</td>\n",
       "      <td>Preston</td>\n",
       "      <td>Easy to follow instructions and peace of mind ...</td>\n",
       "      <td>Can't think of any at this time</td>\n",
       "      <td>10 out of 10</td>\n",
       "    </tr>\n",
       "    <tr>\n",
       "      <th>3</th>\n",
       "      <td>14/04/2018</td>\n",
       "      <td>16-Apr-18</td>\n",
       "      <td>Steven</td>\n",
       "      <td>Lincoln</td>\n",
       "      <td>Value</td>\n",
       "      <td>Nothing</td>\n",
       "      <td>9 out of 10</td>\n",
       "    </tr>\n",
       "    <tr>\n",
       "      <th>4</th>\n",
       "      <td>13/04/2018</td>\n",
       "      <td>21-Apr-18</td>\n",
       "      <td>Neil</td>\n",
       "      <td>Rode Heath</td>\n",
       "      <td>Friendly and efficient staff at the call centr...</td>\n",
       "      <td>Reviewer left no comment</td>\n",
       "      <td>10 out of 10</td>\n",
       "    </tr>\n",
       "  </tbody>\n",
       "</table>\n",
       "</div>"
      ],
      "text/plain": [
       "        Date1      Date2      Who            Where  \\\n",
       "0  14/04/2018  24-Apr-18    Marie         Grantham   \n",
       "1  14/04/2018  17-Apr-18  Michael  hemel hempstead   \n",
       "2  14/04/2018  16-Apr-18    Jason          Preston   \n",
       "3  14/04/2018  16-Apr-18   Steven          Lincoln   \n",
       "4  13/04/2018  21-Apr-18     Neil       Rode Heath   \n",
       "\n",
       "                                            Positive  \\\n",
       "0                                        Was so easy   \n",
       "1  Very easy to use website. Very clear informati...   \n",
       "2  Easy to follow instructions and peace of mind ...   \n",
       "3                                              Value   \n",
       "4  Friendly and efficient staff at the call centr...   \n",
       "\n",
       "                          Negative         Score  \n",
       "0    I have not got any at the min   9 out of 10  \n",
       "1         Reviewer left no comment  10 out of 10  \n",
       "2  Can't think of any at this time  10 out of 10  \n",
       "3                          Nothing   9 out of 10  \n",
       "4         Reviewer left no comment  10 out of 10  "
      ]
     },
     "execution_count": 72,
     "metadata": {},
     "output_type": "execute_result"
    }
   ],
   "source": [
    "df.head()"
   ]
  },
  {
   "cell_type": "code",
   "execution_count": 73,
   "metadata": {
    "collapsed": true
   },
   "outputs": [],
   "source": [
    "pos_neg = df[['Positive', 'Negative']]"
   ]
  },
  {
   "cell_type": "code",
   "execution_count": 74,
   "metadata": {},
   "outputs": [
    {
     "data": {
      "text/html": [
       "<div>\n",
       "<style>\n",
       "    .dataframe thead tr:only-child th {\n",
       "        text-align: right;\n",
       "    }\n",
       "\n",
       "    .dataframe thead th {\n",
       "        text-align: left;\n",
       "    }\n",
       "\n",
       "    .dataframe tbody tr th {\n",
       "        vertical-align: top;\n",
       "    }\n",
       "</style>\n",
       "<table border=\"1\" class=\"dataframe\">\n",
       "  <thead>\n",
       "    <tr style=\"text-align: right;\">\n",
       "      <th></th>\n",
       "      <th>Positive</th>\n",
       "      <th>Negative</th>\n",
       "    </tr>\n",
       "  </thead>\n",
       "  <tbody>\n",
       "    <tr>\n",
       "      <th>0</th>\n",
       "      <td>Was so easy</td>\n",
       "      <td>I have not got any at the min</td>\n",
       "    </tr>\n",
       "    <tr>\n",
       "      <th>1</th>\n",
       "      <td>Very easy to use website. Very clear informati...</td>\n",
       "      <td>Reviewer left no comment</td>\n",
       "    </tr>\n",
       "    <tr>\n",
       "      <th>2</th>\n",
       "      <td>Easy to follow instructions and peace of mind ...</td>\n",
       "      <td>Can't think of any at this time</td>\n",
       "    </tr>\n",
       "    <tr>\n",
       "      <th>3</th>\n",
       "      <td>Value</td>\n",
       "      <td>Nothing</td>\n",
       "    </tr>\n",
       "    <tr>\n",
       "      <th>4</th>\n",
       "      <td>Friendly and efficient staff at the call centr...</td>\n",
       "      <td>Reviewer left no comment</td>\n",
       "    </tr>\n",
       "  </tbody>\n",
       "</table>\n",
       "</div>"
      ],
      "text/plain": [
       "                                            Positive  \\\n",
       "0                                        Was so easy   \n",
       "1  Very easy to use website. Very clear informati...   \n",
       "2  Easy to follow instructions and peace of mind ...   \n",
       "3                                              Value   \n",
       "4  Friendly and efficient staff at the call centr...   \n",
       "\n",
       "                          Negative  \n",
       "0    I have not got any at the min  \n",
       "1         Reviewer left no comment  \n",
       "2  Can't think of any at this time  \n",
       "3                          Nothing  \n",
       "4         Reviewer left no comment  "
      ]
     },
     "execution_count": 74,
     "metadata": {},
     "output_type": "execute_result"
    }
   ],
   "source": [
    "pos_neg.head()"
   ]
  },
  {
   "cell_type": "code",
   "execution_count": 75,
   "metadata": {
    "collapsed": true
   },
   "outputs": [],
   "source": [
    "# Remove the elements of row 'Negative' and store in the list"
   ]
  },
  {
   "cell_type": "code",
   "execution_count": 76,
   "metadata": {
    "collapsed": true
   },
   "outputs": [],
   "source": [
    "negative = []\n",
    "\n",
    "for i in range(len(df)):\n",
    "    negative.append(df['Negative'][i])"
   ]
  },
  {
   "cell_type": "code",
   "execution_count": 77,
   "metadata": {},
   "outputs": [
    {
     "data": {
      "text/plain": [
       "['I have not got any at the min',\n",
       " 'Reviewer left no comment',\n",
       " \"Can't think of any at this time\",\n",
       " 'Nothing',\n",
       " 'Reviewer left no comment',\n",
       " 'so far nothing but insurance only starts 1st May 2018',\n",
       " 'Reviewer left no comment',\n",
       " 'Reviewer left no comment',\n",
       " 'no email from to confirm my car insurance with you',\n",
       " \"I don't know yet. Ask me when I come to renew.\",\n",
       " 'Reviewer left no comment',\n",
       " 'no bad points',\n",
       " \"not the cheapest for all the add on components but wanted stick with a company i'd heard of\",\n",
       " 'Not at moment',\n",
       " 'Web site kept going round in circles so took longer than it need have done',\n",
       " 'Reviewer left no comment',\n",
       " 'Dearer Window excess \\\\xc2\\\\xa390 , most are \\\\xc2\\\\xa375.',\n",
       " 'Standard cover could include a few additional extras, but appreciate this would inflate the base price.',\n",
       " 'Reviewer left no comment',\n",
       " 'Expensive, despite 10years plus on company, as an additional driver on another insurance, none of all of these years accident free matter! And they should! It\\\\xe2\\\\x80\\\\x99s time NCB was acknowledged, when earned on non-main driver policies!']"
      ]
     },
     "execution_count": 77,
     "metadata": {},
     "output_type": "execute_result"
    }
   ],
   "source": [
    "negative[0:20]"
   ]
  },
  {
   "cell_type": "code",
   "execution_count": 78,
   "metadata": {
    "collapsed": true
   },
   "outputs": [],
   "source": [
    "# Look for common phrases as the most popular one are usually the least important"
   ]
  },
  {
   "cell_type": "code",
   "execution_count": 79,
   "metadata": {},
   "outputs": [
    {
     "data": {
      "text/plain": [
       "Reviewer left no comment    4486\n",
       "None                         954\n",
       "No                           754\n",
       "Nothing                      405\n",
       "no                           151\n",
       "none                         127\n",
       "No bad points                 85\n",
       "No.                           73\n",
       "None.                         59\n",
       "Nothing.                      54\n",
       "nothing                       52\n",
       "Not really                    38\n",
       "Nope                          31\n",
       "None so far                   25\n",
       "Nothing so far                24\n",
       "Nil                           24\n",
       "NO                            21\n",
       "N/a                           21\n",
       "Nothing yet                   19\n",
       "No bad points.                19\n",
       "Non                           18\n",
       "Nothing really                16\n",
       "Not yet                       16\n",
       "Not so far                    15\n",
       "no bad points                 15\n",
       "None yet                      14\n",
       "Nothing bad                   12\n",
       "Not really.                   12\n",
       "All good                      12\n",
       "None so far.                  12\n",
       "dtype: int64"
      ]
     },
     "execution_count": 79,
     "metadata": {},
     "output_type": "execute_result"
    }
   ],
   "source": [
    "my_count = pd.Series(negative).value_counts()\n",
    "my_count[0:30]"
   ]
  },
  {
   "cell_type": "code",
   "execution_count": 80,
   "metadata": {
    "collapsed": true
   },
   "outputs": [],
   "source": [
    "# Remove quickly not important phrases"
   ]
  },
  {
   "cell_type": "code",
   "execution_count": 81,
   "metadata": {
    "collapsed": true
   },
   "outputs": [],
   "source": [
    "sentences = ['Reviewer left no comment',\n",
    "             'None.',\n",
    "             'No ',\n",
    "             'Nothing ',\n",
    "             'no',\n",
    "             'none',\n",
    "             'No bad points',\n",
    "             'No.',\n",
    "             'None.',\n",
    "             'Nothing.',\n",
    "             'Not really ',\n",
    "             'Nope'\n",
    "             'None so far',\n",
    "             'Nothing so far',\n",
    "             'Nil',\n",
    "             'NO',\n",
    "             'N/a',\n",
    "             'Nothing yet',\n",
    "             'No bad points.',\n",
    "             'Non',\n",
    "             'Nothing really,'\n",
    "            'None yet',\n",
    "            'Nothing bad',\n",
    "            'Not really.',\n",
    "            'All good',\n",
    "            'None so far.']\n",
    "\n",
    "for sentence in sentences:\n",
    "    while sentence in negative:\n",
    "        negative.remove(sentence)"
   ]
  },
  {
   "cell_type": "code",
   "execution_count": 82,
   "metadata": {},
   "outputs": [
    {
     "data": {
      "text/plain": [
       "['I have not got any at the min',\n",
       " \"Can't think of any at this time\",\n",
       " 'Nothing',\n",
       " 'so far nothing but insurance only starts 1st May 2018',\n",
       " 'no email from to confirm my car insurance with you',\n",
       " \"I don't know yet. Ask me when I come to renew.\",\n",
       " 'no bad points',\n",
       " \"not the cheapest for all the add on components but wanted stick with a company i'd heard of\",\n",
       " 'Not at moment',\n",
       " 'Web site kept going round in circles so took longer than it need have done',\n",
       " 'Dearer Window excess \\\\xc2\\\\xa390 , most are \\\\xc2\\\\xa375.',\n",
       " 'Standard cover could include a few additional extras, but appreciate this would inflate the base price.',\n",
       " 'Expensive, despite 10years plus on company, as an additional driver on another insurance, none of all of these years accident free matter! And they should! It\\\\xe2\\\\x80\\\\x99s time NCB was acknowledged, when earned on non-main driver policies!',\n",
       " 'Each year you send me an automatic renewal. Each year I check on your website. Each year, it is cheaper to renew on line than through your automatic renewal.Why do you treat your existing customers so badly?',\n",
       " 'None',\n",
       " 'I have to go online to get the best price as the renewal is always more expensive when arrives in the post.',\n",
       " 'None that I can think of',\n",
       " 'Think breakdown cover should have been including',\n",
       " 'Nothing',\n",
       " \"It's a bit confusing having 2 cars with 1 policy holder but it all works as it should as far as building no claims etc is concerned.\"]"
      ]
     },
     "execution_count": 82,
     "metadata": {},
     "output_type": "execute_result"
    }
   ],
   "source": [
    "negative[0:20]"
   ]
  },
  {
   "cell_type": "code",
   "execution_count": 83,
   "metadata": {},
   "outputs": [
    {
     "data": {
      "text/plain": [
       "7143"
      ]
     },
     "execution_count": 83,
     "metadata": {},
     "output_type": "execute_result"
    }
   ],
   "source": [
    "len(negative)"
   ]
  },
  {
   "cell_type": "code",
   "execution_count": 84,
   "metadata": {
    "collapsed": true
   },
   "outputs": [],
   "source": [
    "thefile = open('negative.txt', 'w')\n",
    "for item in negative:\n",
    "  thefile.write(\"%s\\n\" % item)\n",
    "thefile.close()"
   ]
  },
  {
   "cell_type": "code",
   "execution_count": 86,
   "metadata": {
    "collapsed": true
   },
   "outputs": [],
   "source": [
    "with open('negative.txt') as negative:\n",
    "    negative = negative.read()"
   ]
  },
  {
   "cell_type": "code",
   "execution_count": 88,
   "metadata": {
    "collapsed": true
   },
   "outputs": [],
   "source": [
    "# Count the total number of words in the file"
   ]
  },
  {
   "cell_type": "code",
   "execution_count": 89,
   "metadata": {},
   "outputs": [
    {
     "name": "stdout",
     "output_type": "stream",
     "text": [
      "Total number of tokens: 79284\n"
     ]
    }
   ],
   "source": [
    "from nltk.tokenize import word_tokenize\n",
    "\n",
    "try:  # py3\n",
    "    all_tokens = [t for t in word_tokenize(negative)]\n",
    "except UnicodeDecodeError:  # py27\n",
    "    all_tokens = [t for t in word_tokenize(corpus_all_in_one.decode('utf-8'))]\n",
    "\n",
    "print(\"Total number of tokens: {}\".format(len(all_tokens)))"
   ]
  },
  {
   "cell_type": "code",
   "execution_count": 90,
   "metadata": {
    "collapsed": true
   },
   "outputs": [],
   "source": [
    "# show the most frequent tokens including punctuation marks. "
   ]
  },
  {
   "cell_type": "code",
   "execution_count": 91,
   "metadata": {},
   "outputs": [
    {
     "name": "stdout",
     "output_type": "stream",
     "text": [
      ".\t2944\n",
      "to\t2866\n",
      "the\t2410\n",
      "I\t1926\n",
      "a\t1594\n",
      "None\t1182\n",
      "No\t1092\n",
      ",\t1043\n",
      "and\t1015\n",
      "was\t957\n",
      "not\t839\n",
      "of\t834\n",
      "for\t834\n",
      "on\t762\n",
      "Nothing\t726\n",
      "my\t721\n",
      "it\t696\n",
      "have\t676\n",
      "!\t665\n",
      "with\t587\n"
     ]
    }
   ],
   "source": [
    "from collections import Counter\n",
    "\n",
    "total_term_frequency = Counter(all_tokens)\n",
    "\n",
    "for word, freq in total_term_frequency.most_common(20):\n",
    "    print(\"{}\\t{}\".format(word, freq))"
   ]
  },
  {
   "cell_type": "code",
   "execution_count": 92,
   "metadata": {
    "collapsed": true
   },
   "outputs": [],
   "source": [
    "# We don't need the punctuation marks or stopwords so we want to remove them from the file. "
   ]
  },
  {
   "cell_type": "code",
   "execution_count": 93,
   "metadata": {},
   "outputs": [
    {
     "name": "stdout",
     "output_type": "stream",
     "text": [
      "['i', 'me', 'my', 'myself', 'we', 'our', 'ours', 'ourselves', 'you', \"you're\", \"you've\", \"you'll\", \"you'd\", 'your', 'yours', 'yourself', 'yourselves', 'he', 'him', 'his', 'himself', 'she', \"she's\", 'her', 'hers', 'herself', 'it', \"it's\", 'its', 'itself', 'they', 'them', 'their', 'theirs', 'themselves', 'what', 'which', 'who', 'whom', 'this', 'that', \"that'll\", 'these', 'those', 'am', 'is', 'are', 'was', 'were', 'be', 'been', 'being', 'have', 'has', 'had', 'having', 'do', 'does', 'did', 'doing', 'a', 'an', 'the', 'and', 'but', 'if', 'or', 'because', 'as', 'until', 'while', 'of', 'at', 'by', 'for', 'with', 'about', 'against', 'between', 'into', 'through', 'during', 'before', 'after', 'above', 'below', 'to', 'from', 'up', 'down', 'in', 'out', 'on', 'off', 'over', 'under', 'again', 'further', 'then', 'once', 'here', 'there', 'when', 'where', 'why', 'how', 'all', 'any', 'both', 'each', 'few', 'more', 'most', 'other', 'some', 'such', 'no', 'nor', 'not', 'only', 'own', 'same', 'so', 'than', 'too', 'very', 's', 't', 'can', 'will', 'just', 'don', \"don't\", 'should', \"should've\", 'now', 'd', 'll', 'm', 'o', 're', 've', 'y', 'ain', 'aren', \"aren't\", 'couldn', \"couldn't\", 'didn', \"didn't\", 'doesn', \"doesn't\", 'hadn', \"hadn't\", 'hasn', \"hasn't\", 'haven', \"haven't\", 'isn', \"isn't\", 'ma', 'mightn', \"mightn't\", 'mustn', \"mustn't\", 'needn', \"needn't\", 'shan', \"shan't\", 'shouldn', \"shouldn't\", 'wasn', \"wasn't\", 'weren', \"weren't\", 'won', \"won't\", 'wouldn', \"wouldn't\"]\n",
      "179\n",
      "!\"#$%&'()*+,-./:;<=>?@[\\]^_`{|}~\n"
     ]
    }
   ],
   "source": [
    "from nltk.corpus import stopwords\n",
    "import string\n",
    "\n",
    "print(stopwords.words('english'))\n",
    "print(len(stopwords.words('english')))\n",
    "print(string.punctuation)"
   ]
  },
  {
   "cell_type": "code",
   "execution_count": 94,
   "metadata": {
    "collapsed": true
   },
   "outputs": [],
   "source": [
    "# Checking the most frequent words points to the problem with price"
   ]
  },
  {
   "cell_type": "code",
   "execution_count": 95,
   "metadata": {},
   "outputs": [
    {
     "name": "stdout",
     "output_type": "stream",
     "text": [
      "I\t1926\n",
      "None\t1182\n",
      "No\t1092\n",
      "Nothing\t726\n",
      "quote\t526\n",
      "insurance\t522\n",
      "n't\t520\n",
      "price\t505\n",
      "renewal\t459\n",
      "policy\t443\n",
      "LV\t438\n",
      "car\t371\n",
      "Not\t315\n",
      "online\t310\n",
      "get\t308\n",
      "yet\t297\n",
      "could\t275\n",
      "The\t268\n",
      "would\t260\n",
      "cheaper\t258\n"
     ]
    }
   ],
   "source": [
    "for content in negative:\n",
    "    tokens = word_tokenize(content)\n",
    "    \n",
    "stop_list = stopwords.words('english') + list(string.punctuation)\n",
    "\n",
    "tokens_no_stop = [token for token in all_tokens\n",
    "                        if token not in stop_list]\n",
    "\n",
    "total_term_frequency_no_stop = Counter(tokens_no_stop)\n",
    "\n",
    "for word, freq in total_term_frequency_no_stop.most_common(20):\n",
    "    print(\"{}\\t{}\".format(word, freq))"
   ]
  },
  {
   "cell_type": "code",
   "execution_count": 96,
   "metadata": {
    "collapsed": true
   },
   "outputs": [],
   "source": [
    "# but different spelling of the same word can result with counting frequency multiple time"
   ]
  },
  {
   "cell_type": "code",
   "execution_count": 97,
   "metadata": {},
   "outputs": [
    {
     "name": "stdout",
     "output_type": "stream",
     "text": [
      "0\n",
      "1092\n",
      "34\n",
      "10\n"
     ]
    }
   ],
   "source": [
    "print(total_term_frequency_no_stop['no'])\n",
    "print(total_term_frequency_no_stop['No'])\n",
    "print(total_term_frequency_no_stop['none'])\n",
    "print(total_term_frequency_no_stop['nope'])"
   ]
  },
  {
   "cell_type": "code",
   "execution_count": 98,
   "metadata": {
    "collapsed": true
   },
   "outputs": [],
   "source": [
    "# Using steamer that takes the last bits of words and using lower case to all words results in limiting the problem mentioned above"
   ]
  },
  {
   "cell_type": "code",
   "execution_count": 99,
   "metadata": {},
   "outputs": [
    {
     "name": "stdout",
     "output_type": "stream",
     "text": [
      "none\t1225\n",
      "noth\t886\n",
      "insur\t693\n",
      "renew\t666\n",
      "quot\t654\n",
      "price\t630\n",
      "n't\t521\n",
      "polici\t499\n",
      "lv\t478\n",
      "car\t422\n",
      "year\t372\n",
      "get\t354\n",
      "could\t348\n",
      "onlin\t323\n",
      "custom\t319\n",
      "would\t311\n",
      "yet\t302\n",
      "cheaper\t268\n",
      "cover\t266\n",
      "claim\t252\n"
     ]
    }
   ],
   "source": [
    "from nltk.stem import PorterStemmer\n",
    "\n",
    "stemmer = PorterStemmer()\n",
    "all_tokens_lower = [t.lower() for t in all_tokens]\n",
    "\n",
    "tokens_normalised = [stemmer.stem(t) for t in all_tokens_lower\n",
    "                                     if t not in stop_list]\n",
    "\n",
    "total_term_frequency_normalised = Counter(tokens_normalised)\n",
    "\n",
    "for word, freq in total_term_frequency_normalised.most_common(20):\n",
    "    print(\"{}\\t{}\".format(word, freq))"
   ]
  },
  {
   "cell_type": "code",
   "execution_count": 100,
   "metadata": {
    "collapsed": true
   },
   "outputs": [],
   "source": [
    "# We are more interested with frazes rather than words"
   ]
  },
  {
   "cell_type": "code",
   "execution_count": 101,
   "metadata": {},
   "outputs": [
    {
     "name": "stdout",
     "output_type": "stream",
     "text": [
      "('have', 'to', 'make', 'a', 'claim')\t21\n",
      "('ca', \"n't\", 'think', 'of', 'anything')\t21\n",
      "('that', 'i', 'can', 'think', 'of')\t18\n",
      "('?', '?', '?', '?', '?')\t18\n",
      "('ca', \"n't\", 'think', 'of', 'any')\t16\n",
      "('!', '!', '!', '!', '!')\t16\n",
      "('to', 'make', 'a', 'claim', '.')\t14\n",
      "('none', 'that', 'i', 'can', 'think')\t13\n",
      "('to', 'get', 'a', 'better', 'price')\t13\n",
      "('nothing', 'i', 'can', 'think', 'of')\t13\n",
      "('take', 'out', 'a', 'new', 'policy')\t12\n",
      "('i', 'have', 'to', 'make', 'a')\t11\n",
      "('i', 'can', 'think', 'of', '.')\t10\n",
      "('had', 'to', 'make', 'a', 'claim')\t9\n",
      "('to', 'get', 'a', 'better', 'deal')\t8\n",
      "('to', 'take', 'out', 'a', 'new')\t8\n",
      "('no', 'bad', 'points', 'at', 'all')\t8\n",
      "('to', 'go', 'on', 'line', 'to')\t7\n",
      "('go', 'on', 'line', 'to', 'get')\t7\n",
      "('i', 'had', 'to', 'cancel', 'my')\t7\n"
     ]
    }
   ],
   "source": [
    "from nltk import ngrams\n",
    "\n",
    "phrases = Counter(ngrams(all_tokens_lower, 5))\n",
    "for phrase, freq in phrases.most_common(20):\n",
    "    print(\"{}\\t{}\".format(phrase, freq))"
   ]
  },
  {
   "cell_type": "code",
   "execution_count": 102,
   "metadata": {
    "collapsed": true
   },
   "outputs": [],
   "source": [
    "# There is many comments that they don't see bad sides of the product which is good.\n",
    "# Comments that mention problems are: \n",
    "# there shouold be cheaper renewal quote\n",
    "# it took a bit of time to send insurance documents\n",
    "# No monthly payment option\n",
    "# Too many add ons\n",
    "# better price elsewhere"
   ]
  },
  {
   "cell_type": "code",
   "execution_count": 103,
   "metadata": {},
   "outputs": [
    {
     "name": "stdout",
     "output_type": "stream",
     "text": [
      "('Ca', \"n't\", 'think', 'anything', 'None')\t3\n",
      "('No', 'bad', 'points', 'I', 'think')\t3\n",
      "('None', 'Ca', \"n't\", 'think', 'anything')\t3\n",
      "('go', 'line', 'get', 'better', 'deal')\t3\n",
      "('I', 'still', \"n't\", 'sent', 'policy')\t2\n",
      "('still', \"n't\", 'sent', 'policy', 'documents')\t2\n",
      "(\"n't\", 'sent', 'policy', 'documents', '5')\t2\n",
      "('sent', 'policy', 'documents', '5', 'days')\t2\n",
      "('policy', 'documents', '5', 'days', 'since')\t2\n",
      "('documents', '5', 'days', 'since', 'policy')\t2\n",
      "('5', 'days', 'since', 'policy', 'started')\t2\n",
      "('days', 'since', 'policy', 'started', 'I')\t2\n",
      "('since', 'policy', 'started', 'I', \"n't\")\t2\n",
      "('policy', 'started', 'I', \"n't\", 'even')\t2\n",
      "('started', 'I', \"n't\", 'even', 'receive')\t2\n",
      "('I', \"n't\", 'even', 'receive', 'confirmation')\t2\n",
      "(\"n't\", 'even', 'receive', 'confirmation', 'email')\t2\n",
      "('even', 'receive', 'confirmation', 'email', 'stating')\t2\n",
      "('receive', 'confirmation', 'email', 'stating', 'I')\t2\n",
      "('confirmation', 'email', 'stating', 'I', 'taken')\t2\n"
     ]
    }
   ],
   "source": [
    "phrases = Counter(ngrams(tokens_no_stop, 5))\n",
    "\n",
    "for phrase, freq in phrases.most_common(20):\n",
    "    print(\"{}\\t{}\".format(phrase, freq))"
   ]
  },
  {
   "cell_type": "code",
   "execution_count": 104,
   "metadata": {
    "collapsed": true
   },
   "outputs": [],
   "source": [
    "# I had to repeat the same procedure for the positive feedback to compare"
   ]
  },
  {
   "cell_type": "code",
   "execution_count": 105,
   "metadata": {
    "collapsed": true
   },
   "outputs": [],
   "source": [
    "positive = []\n",
    "\n",
    "for i in range(len(df)):\n",
    "    positive.append(df['Positive'][i])"
   ]
  },
  {
   "cell_type": "code",
   "execution_count": 106,
   "metadata": {},
   "outputs": [
    {
     "data": {
      "text/plain": [
       "['Was so easy',\n",
       " 'Very easy to use website. Very clear information and a great price. I saved over \\\\xc2\\\\xa390.00',\n",
       " 'Easy to follow instructions and peace of mind no middle man',\n",
       " 'Value',\n",
       " 'Friendly and efficient staff at the call centre, they answered the phone within 5 rings - no waiting in a queue or annoying music!They were helpful, and knowledgeable, and made the whole experience very simply.',\n",
       " '\\\\xc2\\\\xa3100 cheaper than current insurer.',\n",
       " 'Price was very good & very easy to get the cover',\n",
       " 'I bought my car Insurance online I had a good experience had no problems during my visit I would recommend to my friends',\n",
       " 'Value for money',\n",
       " 'The website was clear and straightforward, so the whole process was relatively painless.',\n",
       " 'Quickly and efficiently done. No fuss. No hassle.',\n",
       " 'very easy to purchase and all the added extras are there if you wish',\n",
       " 'easy to use website and documents sent quick',\n",
       " 'Good customer service',\n",
       " 'Reviewer left no comment',\n",
       " 'Quick and easy',\n",
       " 'All round cover at a good price, no big excess .',\n",
       " 'Easy to quote and purchase, with a well designed website providing clear information. Pricing is competitive. The proof of any insurance company however, will be how they respond in the event that a claim should be made.',\n",
       " 'Easy to get a quote and then the final product.',\n",
       " 'Cheaper than most',\n",
       " 'Reviewer left no comment',\n",
       " 'Good customer service',\n",
       " 'PRICE',\n",
       " 'The LV= on line system is extremely easy and their quote is competitive too.',\n",
       " 'Easy to fill in forms?,great price for the same cover we had previrus lying with another company',\n",
       " 'I have had my car insurance with LV for about 3 years.  It is very reasonably priced and I also like the convenience of adding my daughter onto my insurance every now and then with no added admin fees or paperwork - it is emailed immediately.',\n",
       " 'No excess',\n",
       " 'much cheaper than our last company',\n",
       " 'cheapest quote',\n",
       " 'The price',\n",
       " 'Easy to arrange and excellent value for money',\n",
       " 'Saved \\\\xc2\\\\xa350 on equivalent cover elsewhere using multicar.  Customer service were helpful.',\n",
       " 'Customer service is good',\n",
       " 'Very simple application process.',\n",
       " 'Good priceEasy purchase on line',\n",
       " 'Competitvely  priced with all necessary benefitsSimple online processDocumentation clear',\n",
       " 'service and price',\n",
       " 'Price is good online on compare sites.',\n",
       " 'Great service',\n",
       " 'Have been with LV before and find them to be one of the best insurance companies to deal with. Very efficient good value for money.',\n",
       " 'managed to increase quality of cover for less than the premium quoted at renewal.',\n",
       " 'Reviewer left no comment',\n",
       " 'Easy Purchase and 40 % less than BWM What more can one say ....!',\n",
       " 'Easy to purchase, Best value for a well known insurance provider.',\n",
       " 'no quibble,one price,good value for money,better than all of the over50,quotes.',\n",
       " 'Very competitive, no hassle obtaining a quote.',\n",
       " 'Ease of getting a quote arranging cover.Good value for money',\n",
       " 'Easy to use website',\n",
       " 'Insurance was wrong car guy on phone sorted with no probs as I needed cover note a s a p brill service many thanks. Alex',\n",
       " 'Easy to find, also had the option of paperless documents.',\n",
       " 'Had been with my previous  provider for over 12 years and never a penny in reduction, LV saved me just under \\\\xc2\\\\xa3200.  5% discount for doing it online and a further 5% as I already had LV Home insurance.',\n",
       " 'Fulfills all my requirements at a reasonable cost.',\n",
       " 'Easy to understand website quick process and great price',\n",
       " 'good level of cover',\n",
       " 'Great price',\n",
       " 'Online easy to complete',\n",
       " 'Filling out the details on the website was straight forward.Competitive price, considering what was included.',\n",
       " 'Easy to buy on tablet',\n",
       " 'It was the cheapest, and the insurer I was already with',\n",
       " 'Very easy to complete questionnaire & make amendments. Very quick premium notification.',\n",
       " 'Good value for amount included',\n",
       " \"Very 'clear' to view website and easy to negotiate - in fact really impressed!Competitively priced - good value\",\n",
       " 'Good quote staff very polite and easy to talk to i took a policy out and payed the deposit but i had problems with the car and got a new one  and the switch over was easly done \\\\xf0\\\\x9f\\\\x98\\\\x80',\n",
       " 'Easy and value for money',\n",
       " 'Straight selling points',\n",
       " 'Easy to navigate website and questionnaire.',\n",
       " 'considerably huge difference between this and my current insurance company',\n",
       " 'At the moment none will not recommend rubbish no paperwork no emails no idea if you are even insured',\n",
       " 'Reliable insurance',\n",
       " 'It was so very easy to insure with you I would recommend this to all my friends',\n",
       " 'All',\n",
       " 'Easy to do online',\n",
       " 'Fab, cheap and just what i needed',\n",
       " 'Easy to navigate and helpful staff member',\n",
       " 'Great, all inclusive policy and good price.',\n",
       " 'Ability to do online.',\n",
       " 'The product content benefits, which other companies add as extras for an additional charge.We have three cars with another company on a multi car, Policy, but it was no cheaper with them.Therefore, we now have two cars with LV',\n",
       " 'Easy to use website for a senior citizen!',\n",
       " 'Clarity over \\\\xe2\\\\x80\\\\x9cadd ons\\\\xe2\\\\x80\\\\x9d',\n",
       " 'Very easy to purchase and quick.',\n",
       " \"very competitive price shame they don't do camper vans\",\n",
       " 'Good value for money, easy to purchase, good service',\n",
       " 'the price was very competitive',\n",
       " 'All good',\n",
       " 'Simple web site to use.Reasonably priced.',\n",
       " 'Decent price',\n",
       " 'Fantastic , easy friendly website. Helpful advisors available  on live chat. Great cover at a great price.',\n",
       " 'So easy to do online no hassle',\n",
       " 'easy to do on line,no phone calls and good price.',\n",
       " 'It was easy to change my insurance through the comparison website. I still like paper copies of insurance and that was easy to print for myself. The documents are comprehensive and easy to read.',\n",
       " \"Easy to use website. You can adjust the 'extras' (Excess,personal accident cover etc) and decide on the best premium\",\n",
       " 'The price',\n",
       " 'Found it easy to do online very good service and best quote',\n",
       " 'easy to do',\n",
       " 'I have used lv over the years and they are always very competitive and easy to use would highly recommend them',\n",
       " 'Excellent value for money, from a known insurance company!',\n",
       " 'The members of staff we spoke to were very helpful.',\n",
       " 'Very easy and got a very good deal',\n",
       " 'Reviewer left no comment',\n",
       " 'all easy and went smoothly',\n",
       " 'Is a Which? recommended',\n",
       " 'Ease of filling in details',\n",
       " 'Clarity and transparency of the whole purchase experience. No pressure to buy. No tricks or unexpected add-ons. No taking monies from my account without first reviewing my purchase. Thank you for making it stress free.',\n",
       " 'A good value insurance compared to others in the marketplace.',\n",
       " 'Quick and easy to renew and lower cost than last year.',\n",
       " 'Great price for great insurance',\n",
       " 'Great value for equivalent insurance to others that are far more expensive. Saved over \\\\xc2\\\\xa3100 on my renewal with LV\\\\xf0\\\\x9f\\\\x98\\\\x81',\n",
       " 'quick and easy car cover, good value, no problems',\n",
       " 'Easy to apply for on the computer and very good price.',\n",
       " 'Quick and easy',\n",
       " 'I think the policy is comprehensive and fairly good value',\n",
       " 'Very easy to set up. Seamless process. Unbelievably competitive versus my previous insurer.',\n",
       " 'on line purchase made easy',\n",
       " 'the value of the policy and its provisions compared to my old policy ..',\n",
       " 'Reputable Insurance companyService is very goodMy questions were answered',\n",
       " \"LV made it incredibly easy to customise my insurance to my specific car and requirements which I thought would push the premium significantly up but it didn't!\",\n",
       " \"I've only just signed up, so this survey is rather premature for a proper opinion.\",\n",
       " 'BEING ABLE TO ACCESS COST OF INSURANCE ON LINE.CUSTOMER SERVICE THAT I CONTACTED AFTER PURCHASING THE INSURANCE WERE EXCELLENT,POLITE AND UNDERSTANDING.',\n",
       " 'LV have a good reputation as an insurer, that is important to me',\n",
       " 'Great value from LV, \\\\xc2\\\\xa3100 saving on previous insurer makes me very happy',\n",
       " 'Reviewer left no comment',\n",
       " 'Clear and simple to do',\n",
       " 'Great brand, easy to purchase.',\n",
       " 'price',\n",
       " 'Both renewals are together at the same time.Auto renewal (can opt out if you wish)',\n",
       " 'Good price',\n",
       " 'Good cover and reasonable cost',\n",
       " 'Easy and very clear',\n",
       " 'Such competitive prices, beat my last insurance by miles',\n",
       " 'Easy to contact and very helpful staff',\n",
       " 'There are never any good points about buying insurance. They are all expensive necessary evils.',\n",
       " 'Easy to organiseGood price',\n",
       " 'Good price easy to sort out',\n",
       " \"I have returned to LV for a number of years. I haven't had a claim with them yet but am hopeful that I will get a good service when I need them.\",\n",
       " 'Swift application process with excellent value for money compared to other quality insurance providers and still provide the option of hard copies of policy when booking online with no extra charge.',\n",
       " 'The saving vs my present ins,the ease of booking,no',\n",
       " 'easy to do',\n",
       " 'Easy to set up and sort online. Great value for money',\n",
       " 'Easy web page to navigate',\n",
       " 'Ease and simplicity of setting up insurance',\n",
       " 'Easy to access the quote and any queries by phone does get answered.',\n",
       " 'Easy to use and reasonably priced',\n",
       " 'Easy web site',\n",
       " 'Easy to apply',\n",
       " 'Ease of use. Good cover. Multi car cover. Excellent cost.',\n",
       " 'Quick and easy. Good price.',\n",
       " 'Price and value for money',\n",
       " 'Excellent value, half what my previous insurer wanted with lower excess. Very easy to get quote and purchase online. Easy to add drivers and cars. Allows all cars to run from same date.',\n",
       " 'Easy to use website and a very competitive price.',\n",
       " 'Easy to do over the phone and very helpful staff who talked me through everything',\n",
       " 'comprehensive cover across a variety of areas so I feel well covered',\n",
       " 'Easy to use',\n",
       " 'Quick and easy to process on the internet',\n",
       " 'Total satisfaction from LV for both car and home & contents insurance so we come back every year.',\n",
       " 'Very Easy website to use,all completed in a few minutes and very clear what you are buying before clicking the purchase button.',\n",
       " 'Quick and hassle free, good price everything was simple.Peter',\n",
       " 'Really easy to apply.',\n",
       " 'Very easy to complete online form and quick response',\n",
       " 'Ease of use & speed of transaction',\n",
       " 'Good price, included driving abroad.',\n",
       " 'For our second car, with LV= the price was the lowest with great value. The purchase took less than 5 minutes using the website, and everything was very simple and clear.Good job.',\n",
       " 'Easy',\n",
       " 'No extra for monthly payments',\n",
       " 'Price, quick telephone response, no compulsory excess',\n",
       " 'great service',\n",
       " 'Cheaper than my renewal quote',\n",
       " 'very easy to use, and good value',\n",
       " 'It was cheaper than expected',\n",
       " 'Very easy to get multi-car quote with an opportunity to review and edit it.   I had to cancel two existing policies and then implement a new one for three cars it was a bit more complicated than just starting a new three car policy.I used the on line chat facility to help make the changeover and it worked extremely well',\n",
       " 'Competitive car insurance quote',\n",
       " 'easy to understand instructions',\n",
       " 'Easy to get a quote, very competitive compared with other \"quality\" rivals - judged by being near the top of Which recommended insurers.  Also easy to include a second car.',\n",
       " 'Easy to get a quote, very competitive compared with other \"quality\" rivals - judged by being near the top of Which recommended insurers.  Also easy to include a second car.',\n",
       " 'Easy to negotiate website and \\\\xc2\\\\xa340 cheaper than renewal quote',\n",
       " 'It was very easy and quick to take out a policy with LV and very competitive.',\n",
       " 'It was easy and quick',\n",
       " 'It is easy to buy and staff in LV is helpful.',\n",
       " 'Great value insurance',\n",
       " 'cheapest quote I found by a mile',\n",
       " 'Used LV for some time now and have not had any problems. I feel that I can trust lv completely.',\n",
       " 'After searching for the best price being 50 i tried all the over 50 sites but found them all really expensive!!LV came in top with a saving of \\\\xc2\\\\xa3300.00 well worth the time to explore the different sites.So dont be like i was and just let your insurance roll over do a search and save yourself MONEY.',\n",
       " 'Easy to buy and very clear documentation etc. A very competitive quote helped me a lot!',\n",
       " 'Quick and easy to follow and the best deal available.',\n",
       " 'Website easy to use and I went through cash back website too... bonus',\n",
       " 'The website is a breeze to use and the price was about what I expected to pay based on previous insurance purchase without needing to resort to the comparison websites. Need to reassess the VFM at renewal to be fully convinced that LV still value my custom. \\\\xf0\\\\x9f\\\\xa4\\\\x9e',\n",
       " 'A straight forward transaction using the Web Site.',\n",
       " 'Such a big saving over the other quotes that I received',\n",
       " 'Ease of setting up policy',\n",
       " 'Value for money',\n",
       " 'clarity',\n",
       " \"None I'm buying car insurance\",\n",
       " 'high level of ncd -easy to build package you need',\n",
       " 'Quick service and value for money',\n",
       " 'low excess',\n",
       " 'Easy to buy online',\n",
       " 'Easy on line experience and I saved \\\\xc2\\\\xa3300 with improved cover',\n",
       " 'Very helpful',\n",
       " 'Seemed a very competitive price',\n",
       " 'all',\n",
       " 'Very good rate on line',\n",
       " 'Comming back to my Quote.',\n",
       " 'Excellant customer service when I had to call re ifficulty with payment online.  Soon sorted over the phone and confirmation that everything had processed fine.',\n",
       " 'Reviewer left no comment',\n",
       " 'Excellent all round service from a trusted provider.',\n",
       " 'Reviewer left no comment',\n",
       " 'All good',\n",
       " 'Great value and easy to arrange.',\n",
       " 'Easy and clear to use Web pages.',\n",
       " 'Prompt sales and easy access to complete and close sales with no need to call customer care',\n",
       " 'Abel to talk quickly to someone on line',\n",
       " 'Easy to use. Paperwork easy to read',\n",
       " '\\\\xc2\\\\xa3130 cheaper and lower excess than my renewal quote from you!!!',\n",
       " 'too early to say yet',\n",
       " 'Easy to arrange and the second time in recent years that LV has given me an excellent, value for money deal.',\n",
       " 'Ease of application.',\n",
       " 'Competitive price with historical good service',\n",
       " 'Reviewer left no comment',\n",
       " 'Good and easy to use and includes all the things needed',\n",
       " '10',\n",
       " \"Good value cover, all points clearly laid out so you can see what you are getting for your money and what optional extras are available so you can decide what you want - means you don't have to pay for something you may already have covered like breakdown.\",\n",
       " 'Great value and easy to use, always check the site as a new customer first, they are the best',\n",
       " 'Very competitive at the moment',\n",
       " '\\\\xc2\\\\xa350 cheaper than my current insurers renewal, so I could upgrade my policy to protected NCB and still save \\\\xc2\\\\xa330.',\n",
       " 'Covers what I need',\n",
       " 'Best price on comp\\\\xc3\\\\xa8re sites',\n",
       " 'Good fast service and competitive',\n",
       " 'Good website and price',\n",
       " 'Easy to use websiteSimple to add extras',\n",
       " 'Easy internet input.',\n",
       " 'Good cover for the price',\n",
       " 'It\\\\xe2\\\\x80\\\\x99s low price and good value',\n",
       " 'The price',\n",
       " 'Very easy',\n",
       " 'Not the cheapest,but best cover for price.',\n",
       " 'Online registration is very easy to use.',\n",
       " 'Not any',\n",
       " 'Very easy. Seems good value.',\n",
       " 'multicar has saved us around \\\\xc2\\\\xa340',\n",
       " 'Easy to access all I needed to know',\n",
       " 'Really easy to buy and clear pricing. Live chat also very efficient. Saved \\\\xc2\\\\xa3300!!! Very happy. I would recommend LV. Get yourself a quote.',\n",
       " 'Saving money!',\n",
       " 'Cheaper by \\\\xc2\\\\xa350+ than renewal sent out in post',\n",
       " 'it was so easy and quick to do  the price was  very good I have no objections  of recommencing  this insurance company',\n",
       " 'Efficiency',\n",
       " 'Straightforward to purchase..Good Value',\n",
       " 'Quick and easy purchase,all points clearly explained.',\n",
       " 'Very good customer service',\n",
       " 'all good',\n",
       " 'Euro cover',\n",
       " 'Being able to do online but also check things on phone',\n",
       " 'Competitively priced.',\n",
       " 'the eas of on line acces.no hard sell.able to take your time.',\n",
       " 'Very easy to apply .couldnt ask for anything more',\n",
       " 'Easy online application',\n",
       " 'Have used LV car insurance before and have been most pleased with it.',\n",
       " 'Reviewer left no comment',\n",
       " 'The price',\n",
       " 'Very good and efficient service',\n",
       " 'Good services',\n",
       " 'Easy website to use and very competitive price',\n",
       " 'Price superb',\n",
       " 'Good value',\n",
       " 'Good value',\n",
       " \"Price right  compared to other company's .\",\n",
       " 'Helpful staff, easy set up',\n",
       " 'Very happy with the level of cover for the amount of premium',\n",
       " 'Good price and i get a meerkat',\n",
       " 'Simple and value for money',\n",
       " 'Really easy process to obtain quote and purchase the policy',\n",
       " 'Allowed 180 days abroad maintaining same level of cover',\n",
       " 'So quick and simple to do online. Half the cost of my last insurer.',\n",
       " 'How easy it was to get it all sorted',\n",
       " 'Price',\n",
       " 'Easy to use website and helpful customer service as well',\n",
       " 'Reasonable price',\n",
       " 'Easy, no fuss and no hidden charges.',\n",
       " \"Reputable company, clear indicators of cover options. Good quote, very near to my last year's premium, and MUCH cheaper than the renewal quote of my last insurer.\",\n",
       " 'No one could beat my quote',\n",
       " 'Easy',\n",
       " 'All so straight forward and competitive rates',\n",
       " 'Reviewer left no comment',\n",
       " 'Reviewer left no comment',\n",
       " 'Competitive price friendly helpful customer service',\n",
       " 'Reputable companyExperienced staffExcellent value',\n",
       " 'No fus',\n",
       " 'Quote came quickly and was good value for the cover offered',\n",
       " 'I made a mistake when purchasing, the call handler who corrected my error was really helpful and reassuring and willing to help. Absolutely brilliant.',\n",
       " 'Reviewer left no comment',\n",
       " 'great price and easy to access and buy online',\n",
       " 'Very quick to set up once found the deal for me.',\n",
       " 'Easy to use site',\n",
       " 'I had to make a change to the estimated mileage which was done with no admin charge. The best feature is free european cover fully comp covered.',\n",
       " 'Quick easy purchase',\n",
       " '100 pound cheaper than saga',\n",
       " 'Cheapest deal I could find for my needs this year!',\n",
       " 'Easy and fair transaction',\n",
       " 'The cost of my car insurance with LV for a year saved me over \\\\xc2\\\\xa340.',\n",
       " 'Very good customer service. Quick and easy to set up, hassle free.',\n",
       " 'Really helpful call centre staff',\n",
       " 'Good price vs competition, easy to use website, easy to order policy.',\n",
       " 'value for money cheapest car insurance.add ons protection of ncb',\n",
       " 'Easy website to navigateMost competitive quoteAll policy paperwork emailed',\n",
       " 'everything smooth',\n",
       " 'Quick and easy website - much less trouble seeing a quotation for Car Insurance than I had expected.    Very competitive quotation.',\n",
       " 'The ease and simplicity of arranging the car insurance',\n",
       " 'Very easy to switchBest quote',\n",
       " 'Covers other things that other companies did not',\n",
       " 'quick good service',\n",
       " 'So easy to do online and prompt email confirmation.',\n",
       " '\\\\xc2\\\\xa3150 cheaper than my Saga renewal quote',\n",
       " 'I am regular customer LV and I have been good experience with them',\n",
       " 'Easy to complete and the clarity of the policy',\n",
       " 'Fits my budget',\n",
       " 'Cheapest price for same level of cover. Low voluntary excess',\n",
       " 'simple easy to understand quote form, giving a very competitive direct quote from lv',\n",
       " 'easy to buy and swap from existing provider',\n",
       " 'Reviewer left no comment',\n",
       " 'Easy and quick to insure.',\n",
       " 'Good value for money as much cheaper than any one else',\n",
       " 'Reviewer left no comment',\n",
       " 'You gave the choice not to automatically renew by taking the next years payment.',\n",
       " 'Easy',\n",
       " 'reasonable ratesgenerally easy to navigate the site',\n",
       " 'I liked the price and the value for money and also all the extras you got.',\n",
       " 'overall ease on everything',\n",
       " 'Easy-to-use website, helpful staff',\n",
       " 'Easy to add optional extras',\n",
       " 'Was easy to set up.',\n",
       " 'More cover for much less',\n",
       " 'The procedure was simple, including being able to name the insurer with details of the NCB so it was not necessary to scan and email details. The premium was half my renewal.',\n",
       " 'All straightforward on the net. Easy to talk to an adviser if you are in sure of an answer.',\n",
       " 'Ask to speak to someone. Helpful staff',\n",
       " 'Easy  obtain a quote for more competitive insurance.',\n",
       " 'Good price easy to insure',\n",
       " 'Brilliant price',\n",
       " 'Easy of what  purchase and easy access online',\n",
       " 'Very helpful on telephone, although could not complete policy as needed to be done online',\n",
       " 'Easy to set up, very competitive price lots of benefits',\n",
       " 'Good price and coverage along with good service record.',\n",
       " 'Good value insurance',\n",
       " 'easy to organise on line',\n",
       " 'Quick, easy, cheapest, value for money',\n",
       " 'Easy to understand format',\n",
       " 'Easy to usePolicy sent by email - quick and easy',\n",
       " 'Quick, clear and easy',\n",
       " 'It was very easy to go theough the process',\n",
       " 'Very clear what I was paying for and at a good price',\n",
       " 'Good price',\n",
       " 'Value for money is not given any better !',\n",
       " 'Value for money is not given any better !',\n",
       " 'Easy to take out',\n",
       " 'Online quote system, relatively easy to navigate, and specify / amend',\n",
       " 'Everything was easy to setup no problems',\n",
       " 'Very easy and quick',\n",
       " 'Easy transaction at a very good price !',\n",
       " 'Easy to buy on line',\n",
       " 'Cost was very good even compared to the renewal price from my current insurer.',\n",
       " 'It was straightforward to calculate premiums on varying requirements.',\n",
       " 'All insurances in one place!',\n",
       " 'So easy',\n",
       " 'receiving confirmation by post.',\n",
       " 'Easily understood and straight forward to fill in',\n",
       " 'Quick and easy to choose options.',\n",
       " 'Was easy to fill in',\n",
       " 'Great price compared to other insurers',\n",
       " 'No fuss and a good price',\n",
       " 'the whole package',\n",
       " 'At 71 years old I only know the basics on the computer,but I found your websit very easy to follow and straightforward and also in bold print.',\n",
       " 'the ease of getting insurance via computer....and the many services you have available',\n",
       " 'Good price',\n",
       " 'I got a great deal and good add on in the price',\n",
       " 'Easily the the best on line car insurance. Cheap, no hassle and straight forward',\n",
       " 'Best value for money',\n",
       " 'Easy',\n",
       " 'Excellent price beat my other insurance which I have been with three years',\n",
       " 'Good customer service & value for money policy',\n",
       " \"Good value policy - no claims experience to comment on, don't want any either.\",\n",
       " 'Easy to purchase.   Very good value for money compared to my previous insurer.',\n",
       " 'How you can add on extras and how well the extras are explained',\n",
       " 'Very happy with the offer Liverpool victora give me . Didn\\\\xe2\\\\x80\\\\x99t think twice about purchasing',\n",
       " 'Great price, 30% lower than the cheapest on the comparison sites!',\n",
       " 'Very easy buying process, good cover at a competitive price.',\n",
       " 'Good price and cover',\n",
       " 'UK Call centers',\n",
       " 'Clear. Easy to purchase.',\n",
       " 'Reviewer left no comment',\n",
       " 'Easy proposal form !',\n",
       " \"LV cover drivers against non insured drivers where as lots of insurers don't\",\n",
       " 'Easy to use website, couple of queries that I needed to phone about, answered quickly in a knowledgeable & friendly manner',\n",
       " 'Easy to select product.',\n",
       " 'Good value for good cover',\n",
       " 'Quick, easy and great value.',\n",
       " 'EASY TO ACCESS SIMPLE TO COMPLETE APPLICATION',\n",
       " 'So easy to do online.',\n",
       " 'Quick and easy process, best price on offer.',\n",
       " 'Hassle free online application.Very competitive price.',\n",
       " 'Price',\n",
       " 'Reviewer left no comment',\n",
       " 'LV are a great company to be insured with. Easy to talk to.',\n",
       " 'Straight forward purchase',\n",
       " 'Level of cover exactly suits my needs.Resolution of problems during quotation resolved by straightforward and realistic supervisor.Price compared favourably with identical cover from other underwriters.',\n",
       " 'The web set up is easy to use and straightforward , like being able to save and return later.',\n",
       " 'cost most competitive',\n",
       " 'Competitive price, good reputation and rating wit ease of set up.',\n",
       " 'Good value and a household name in insurance',\n",
       " 'everything so quick and easy',\n",
       " 'Ease of purchase. Great reputation of supplier LV.',\n",
       " \"This policy gives me exactly the same level of cover as I had from my previousInsurer for \\\\xc2\\\\xa3235 less than they are quoting me for this year's premium.\",\n",
       " '5% discount with additional policiesGreat customer service',\n",
       " 'Reviewer left no comment',\n",
       " 'Great customer service',\n",
       " 'Straightforward sensibly priced with excellent cover',\n",
       " 'Good customer service',\n",
       " \"very easy site to navigate and clear 'add-on' information.\",\n",
       " 'Easy access to all relevant points Goodaccess to web page.\\\\xc2\\\\xa3250 cheaper than any other quote',\n",
       " 'Realistic price.',\n",
       " 'Easy to upload and buy',\n",
       " 'Low price',\n",
       " \"Purchased via GoCompare where LV's standard insurance was the most competitive quote. LV's website was easy to navigate and the optional extras where couched in clear and easy to understand terms. The defining moment was that my car insurance with LV was \\\\xc2\\\\xa380 less than the renewal quote I received from my current provider, who had also increased my premium by \\\\xc2\\\\xa345!  I propose a toast to LV and value for money - hurrah!\",\n",
       " 'Voluntary Excess options and its cheaper compared to the same quote elsewhere',\n",
       " 'After searching for car insurance I found LV to be the cheapest and easiest to complete online without any hassle',\n",
       " 'Reviewer left no comment',\n",
       " 'Easy to upgrade options to meet my specific needs.',\n",
       " 'Documentation is exactly correct for 2 cars.',\n",
       " 'Good price',\n",
       " 'best price, easy to use site, option of paper copies sent in post without further charge',\n",
       " 'Very good price.',\n",
       " 'Easy to negotiate the websiteEasy to understandStaff on phone helpful',\n",
       " 'Easy to set up and claim',\n",
       " 'I would like to say this is the cheapest insurance on the easiest they could find thank you',\n",
       " 'Easy to do even for an oldie like me.',\n",
       " 'Value for money',\n",
       " 'Reviewer left no comment',\n",
       " \"Very competitive quote and 'simples' to complete\",\n",
       " 'It was about \\\\xc2\\\\xa3250 cheaper online with lv than the renewal I was sent by lv',\n",
       " 'Very quick and easy, summary of cover very easy to read',\n",
       " 'Easy to get through to agent to confirm online quote and place insurance payment',\n",
       " 'Reviewer left no comment',\n",
       " 'The base for LV is in the Uk and you can speak to an english speaking operator',\n",
       " 'Efficient service and excellent value for money.',\n",
       " 'Good easy to follow web site',\n",
       " 'Reviewer left no comment',\n",
       " 'Easy to get through Good value',\n",
       " \"Ease of use.Realistic market prices in line with other insurer's as opposed to incumbent ......littlemextra offered by LV made the difference\",\n",
       " 'Ease of use of web site.Competitive price.',\n",
       " 'price',\n",
       " 'Good price',\n",
       " 'Website was easy to navigate.',\n",
       " 'Whole experience',\n",
       " 'PRICE, PRICE,PRICE!!!!!',\n",
       " 'Reviewer left no comment',\n",
       " 'Very easy to use',\n",
       " 'Reviewer left no comment',\n",
       " 'easy to do online',\n",
       " 'Great quotation with a great company...',\n",
       " 'Ease of completing the application.',\n",
       " 'Easy to buy on-line, reasonable value for money.',\n",
       " 'Very easy to navigate around the options for quotations',\n",
       " 'User friendly processPrompt response with documentation',\n",
       " 'website was easy to use and easy to change when adding and removing an extra driver it came top for me on comparison web sites on both my cars',\n",
       " 'Good web site - easy to insure on-line.Exceptionally clear paper documentation - arrived within a few days.Price substantially less than with my previous insurer.',\n",
       " 'Very straightforward on the whole, all points seem to be covered.',\n",
       " 'Polite and friendly staff. very informative. Made it easy',\n",
       " 'Competitively priced',\n",
       " 'Easy to arrange.Quick receipt of documentation.Competitive price.',\n",
       " 'Easy to follow screen prompts',\n",
       " 'Every easy to complete.',\n",
       " \"As 'Golden Oldies' we appreciated the simple, uncomplicated website. Excellent throughout.\",\n",
       " 'Simple and very competitive',\n",
       " 'Great company easy to buy',\n",
       " 'easy transation',\n",
       " 'Ease of purchase and price',\n",
       " 'Value for money',\n",
       " 'Seems to meet all my needs at the best price.',\n",
       " '10',\n",
       " 'Great comprehensive packageExtrasReally easy to use website',\n",
       " 'Very quick and easy',\n",
       " 'very happy with the site to purchase and saved money too',\n",
       " 'Easy to access online but also able to get printed copies of insurance documents if required/ preferred.Very reasonable price from a well known company.',\n",
       " 'Very good value',\n",
       " 'Straight forward , quick ,and competitive.',\n",
       " 'Easy to complete and clear',\n",
       " 'Saved me money from current supplier.',\n",
       " 'Very good overall coverage and plenty of options if you want more.',\n",
       " 'I have saved \\\\xc2\\\\xa3120 over my last policy. I shop- around on line each year and this was the cheapest policy to suit my needs.',\n",
       " 'Price was cheaper than my renewal',\n",
       " 'Price and easy purchase',\n",
       " 'Easy to complete from end to end',\n",
       " 'Ease of applying',\n",
       " 'Easy to complete - good detail and value - and a free meerkat!',\n",
       " 'Someone helped me because I am no good at computers.',\n",
       " 'Helpful',\n",
       " 'Very competitive price and good cover.',\n",
       " 'Very easy to set up.It was the lowest priced return from Compare the Market website',\n",
       " 'I booked via a comparison website and LV= was the cheapest quote I received.',\n",
       " 'I was happy to take out a policy with L&V.  Got a very competitive quote with a well-respected company.',\n",
       " 'Previous good experience with a claim and ease of form completion',\n",
       " 'I was comparing the market, after a very high quote for renewal.  LV saved me over 50%!',\n",
       " 'The simplicity of purchasing on line.CostEfficiency of LV',\n",
       " 'Clear, well priced',\n",
       " 'While I have arranged this insurance it does not take effect until mid -November. Relatively easy to arrange but the real test to judge an Insurer comes when you have a claim, something which I have not had to do for many,many years (and hopefully, that will continue).I hope I have made a fair judgement',\n",
       " 'After the quotes I had had it was a relief to find a policy I could afford . After being with my previous insurer for quite a few years they increased my payments by almost 50%. Never claimed on my insurance in all the years I have been driving.',\n",
       " 'Had no trouble booking',\n",
       " 'Easy to use, good value',\n",
       " 'Quick and easy to purchase.',\n",
       " 'Ease of purchase',\n",
       " 'Form filling was easy and straightforward',\n",
       " 'PRICE',\n",
       " 'No fuss about additional parts on the vehicle.',\n",
       " 'It was very easy',\n",
       " 'I could do it on line because when I get home from work to late to phone',\n",
       " 'Renewing is simple and straightforward and the price was competitive',\n",
       " 'Reasonable time in answering my call, and efficient service by LV',\n",
       " 'LV are a good company, were  helpful in a claim I had a few years back but find it frustrating they couldn\\\\xe2\\\\x80\\\\x99t price match their own quote on compare the market... makes no sense',\n",
       " 'Very easy to purchase and has features which are only available as extras with other insurers',\n",
       " 'Quick easy customer service easy &quick to speak very polite too',\n",
       " 'The whole process was quite easy and painless',\n",
       " 'very easy on the comparison site.',\n",
       " 'Very easy process. Excellent.',\n",
       " 'Able to chat on the phone or web link if required',\n",
       " 'Easy online application and swift quote including the payment.Unfortunately with any insurance policy. The proof is in the pudding. Not aregular claimer, this year I have opted for the cheapest I could find.',\n",
       " 'The low prices',\n",
       " 'It was so easy to do on line .',\n",
       " 'Great value for a high value vehicle. Very simple to purchase.',\n",
       " 'Easy to use website',\n",
       " 'All good especially VFM.',\n",
       " 'Still one of the best low premium car insurance quotes. Very easy to complete on line.Would recommend to all.',\n",
       " 'Saved just over \\\\xc2\\\\xa3110 from existing quite',\n",
       " 'new to LV so hoping this is a good buy, cheaper than my previous insurer. Very easy to buy over the internet.',\n",
       " 'Very easy process and great value product perfect',\n",
       " \"Not sure yet and I hope I don't need to claim to find out .\",\n",
       " 'Cheaper on money supermarket than direct',\n",
       " '-',\n",
       " 'It was easy no hassle thanks',\n",
       " 'Good cover easy to set up and pay unlike others.',\n",
       " '1st Class service',\n",
       " 'Very good service and customer call centre',\n",
       " 'So easy to get a quote, the website ui is super.',\n",
       " 'Very easy getting quote on line. Decent price compared to several others including my then current insurer,',\n",
       " 'it was the least expensive quote from among all the leading companies. The most expensive was \\\\xc2\\\\xa31300. More Than yours I guess that companies name says it all MORE THAN',\n",
       " 'The price and ease of use',\n",
       " 'Easy to set up and reductions for multi cars.',\n",
       " 'Very easy to set up and documents sent immediately',\n",
       " 'you could build your own reqirements into your policy',\n",
       " 'It was such a good premium and so much cheaper.',\n",
       " 'price was what I expected to pay',\n",
       " 'The chraoest quote by far. Website very easy to gey around. Looking forward to a good year.',\n",
       " 'Competitive quote with a good level of cover',\n",
       " 'Seems to offer good cover at very competitive price with couple of features such as European cover and miss fuelling included, where others charge extra.Particularly liked NIL compulsory excess.',\n",
       " 'It was just a couple of clicks and I was covered',\n",
       " 'Website so easy to use and navigate.  Tailored to my needs and value for money.',\n",
       " 'Application form was easy to fill in .',\n",
       " 'Able to do it from home quickly',\n",
       " 'Quick and easy to do.',\n",
       " 'Competative rates with other insurance companies.',\n",
       " 'Straight forward purchase.',\n",
       " 'Easy access',\n",
       " 'Value for money',\n",
       " 'Simple form filling.....and price',\n",
       " 'Had LV insurance last year for the car & renewal price still very competitive.',\n",
       " 'Cheaper premiumMisfuelling cover as standardEasy to use web siteDealing with the insurance company direct',\n",
       " 'Easy to complete form and good response time.',\n",
       " 'Quick and easy to navigate the webpage.',\n",
       " 'Half the price of direct line and',\n",
       " 'Being able to do breakdown cover at the same time as insurance',\n",
       " 'Friendly and helpful contact',\n",
       " 'Previous experience with this product proved to be veRyanair good.',\n",
       " 'Very competitive cost and easy to use website',\n",
       " 'Saved me 130 pounds compared to renewal quote from LV themselves',\n",
       " 'Good insurance good price',\n",
       " 'It feels like LV actually want to give me value for money, which is a new experience for me! There isn\\\\\\'t any \"give with one hand and take with the other\" involved, and the level of insurance isn\\\\\\'t over or under what I need. It is tailored to my requirements by the choices that I have been able to make. Not only have I got the insurance that I need, but it is for a price that is sensibly lower (by over \\\\xc2\\\\xa3130) than my previous insurer, who seemed hell-bent on penalising me despite me being a very low risk, clean licenced, full no claims (40 years ish), self monitoring (I have a good quality dash cam with GPS, speed monitoring etc), locked garage parking, driver. Others I know use LV and now I know why... Silly me for not coming to them sooner, but at least I got it right eventually! I found the online purchase very straight-forward and well explained too. A positive experience with everything being in place quickly... Marvellous.',\n",
       " 'easy to use web page',\n",
       " 'Everything to be honest. Quick,easy and very good value for money',\n",
       " 'Was able to access info quickly and complete business without any hassle. Thank u',\n",
       " 'Easy to navigate the site',\n",
       " 'Easy and simple',\n",
       " 'Simple quote procedure. Much better than the web scrapers.',\n",
       " 'Best price on the comparison website',\n",
       " 'Good price and easy to see extras and add them',\n",
       " 'The web site is clear informative and easy to navigate. Options available such as number of named drivers per policy totally superb. I have selected the monthly payment plan but the ability to pay in full at any point in the term is for me ideal.Highly recommend LV I wish I had considered them sooner.',\n",
       " 'So easy and intuitive even a Luddite could do it without thinking!',\n",
       " 'Clear options on website',\n",
       " 'So easy to arrange insurance!',\n",
       " 'Easy online application',\n",
       " 'Very well known name with very good premiums. Claims handling is excellent.',\n",
       " 'Good to find each section.',\n",
       " 'Very easy to set up online. Good clear website with questions in plain English. Well done!',\n",
       " 'easy access online  and  that bit  cheaperthan the rest',\n",
       " 'On line policy quote and confirmation very straight forward.',\n",
       " 'Easy to use website and good selection of add ons',\n",
       " 'It was transparent and easy to understand. Well done',\n",
       " 'It was \\\\xc2\\\\xa380 cheaper then Direct Line',\n",
       " 'Simple process!',\n",
       " 'I was told about LV at work my car insurance with Morethan was \\\\xc2\\\\xa3508. 10  I have 15 years driving with no accidents my insurance went up 49%  I think that, that is a very good point',\n",
       " 'Mostly no excess to pay',\n",
       " 'Very easy website',\n",
       " 'Very reasonably priced, I liked the fact that I could get car insurance, legal costs insurance, breakdown cover and personal accident cover in a single package!',\n",
       " 'Easy to setup, relatively cheap, no issues organising after being out of the country for a few years.',\n",
       " 'as good as insurance gets',\n",
       " 'Easy to sort out new car insurance policy following renewal from existing insurer. Saving \\\\xc2\\\\xa3200 per year.',\n",
       " 'Quick and easy to arrange on line.Saved over \\\\xc2\\\\xa3100 against my renewal quote.',\n",
       " \"I was offered a quote which was reasonable and way below my existing insurer's quote.\",\n",
       " 'It was cheaper than the renewal notice.',\n",
       " 'The process was painless and I was able to save money',\n",
       " \"Included key cover which many didn't. The application form was the easiest to complete out of all the ones I used. Good standard cover and good options if u wanted to improve on that.\",\n",
       " 'easy online application',\n",
       " 'Very straightforward process',\n",
       " 'Everything is o ok',\n",
       " \"Had a question and didn't have to wait too long to speak to someone.  they were very helpful\",\n",
       " 'Very easy to navigate the on line application form',\n",
       " 'Price, ease, service',\n",
       " 'Easy to use and will be buying a multi car policy',\n",
       " 'Reasonable price after comparision',\n",
       " 'Clear documentation and simple to use website',\n",
       " 'straight forward process, just what every customer wants.',\n",
       " 'The price was excellent. I tried all the comparison sites but LV were cheaper.',\n",
       " \"It's car insurance ... what more can l say!\",\n",
       " 'everything was straight forward.',\n",
       " 'Price, scrutiny of application',\n",
       " 'Easy to fill in form and good price',\n",
       " 'Quick & easy',\n",
       " 'A good price from a firm with an excellent reputation. Completed the transaction quickly and without issue and the paperwork was emailed promptly',\n",
       " 'The process on line was quick and straightforward.The price is very competitive',\n",
       " 'Price compared to renewal premium from previous insurer',\n",
       " 'Good customer service',\n",
       " 'Ease of completing application.',\n",
       " 'Was easy to do online',\n",
       " 'good cover for items required at a reasonable price',\n",
       " 'The price',\n",
       " 'The ease of findings the best quotes.',\n",
       " 'system was quick and easy',\n",
       " 'I was able to check my no claims on line as I was buying, great service',\n",
       " 'Easy to use website',\n",
       " 'Easy to use Ee',\n",
       " 'Real people on phone  Easy simple online process',\n",
       " \"Large fonts. Uncomplicated and user friendly site.As with all insurance purchases you can only comment on the ease of purchase.   This 'felt' as if they would be the support needed in an emergency.\",\n",
       " 'Extra cover for injury inside and outside of the car',\n",
       " 'Reviewer left no comment',\n",
       " 'Straightforward application form with documents emailed to me within a couple of hours.',\n",
       " 'Easy and fast service',\n",
       " 'very simple and quick',\n",
       " 'Easy to complete application.Response and provision of documents was extremely quick and efficient.',\n",
       " 'Ease of arranging',\n",
       " 'Straight forward to organise',\n",
       " 'The ease of purchasing the car insurance.',\n",
       " 'Great priceGood web application process.',\n",
       " 'Very user friendly',\n",
       " 'Value for money Locks/keys/wrong fuel included',\n",
       " 'Quick, easy and simple and best of all cheap.',\n",
       " 'Quick and easy',\n",
       " \"Relatively easy to clarify points with 'live chat'Price very competative\",\n",
       " 'Easy to purchase and complete all relevant information needed.',\n",
       " 'Easy',\n",
       " 'Good price',\n",
       " 'easy to do on line',\n",
       " 'Easy to use website, cracking premium but (fortunately) not had to test the claims process.',\n",
       " 'I found it very easy to source the best deal for me and once through to Lv website it was very easy to navigate through the site.',\n",
       " 'Easy website to use and reasonable price',\n",
       " 'The price was good.',\n",
       " 'Good value and respected company. Have used before and no problems.',\n",
       " 'Easy to understand application and cover',\n",
       " 'Great help over the phoneGenerous range of wine nclusive products',\n",
       " 'Easy to set up',\n",
       " 'Having  checked  the details I  decided to go ahead,',\n",
       " 'Good all round package at a reasonable price.',\n",
       " 'It was just so easyA few clicks and job doneAlso half the price of my renewal quote from my previous insurer',\n",
       " 'Ease of buying.',\n",
       " 'No compulsory excess.',\n",
       " 'Ease of procedure moving through the website. I liked the end result and the price',\n",
       " 'Ease of the on-line application. Everything is easily laid out & well explained.',\n",
       " 'Available at all times and dealt with ease. Very professional andWould recommend it.',\n",
       " 'Good value',\n",
       " 'good value , choice of no excess the',\n",
       " 'just all good',\n",
       " 'Very easy to arrange online',\n",
       " 'Great Price and Excellent Cover',\n",
       " 'Easy to buy online',\n",
       " 'Its was easy to doe',\n",
       " 'Great price',\n",
       " 'Competitive price. ease of access and easy to fill in forms on line',\n",
       " 'Value for money saved me a lot',\n",
       " 'Saved quite a bit of \\\\xc2\\\\xa3 & received a few extra bits - am really pleased.',\n",
       " \"There is a lot of good points about LV the ease of application and the chance to speak to advisor this was my first car insurance in a long time and was the cheapest around compared with the other big company's same questions asked yet quotes were sometimes one/half times more.\",\n",
       " 'Just all round service and price very competitive.',\n",
       " 'Easy',\n",
       " 'done on line .very straight forward',\n",
       " 'Easy to understand web site and excellent value',\n",
       " 'Service',\n",
       " 'So easy to set up and very quick',\n",
       " 'Easy to follow quote. Very competitively priced product.',\n",
       " 'Gave me the type of insurance I wanted namely 180 days European cover as I travel across Europe a lot, most other companies only offer up to 60 days.',\n",
       " 'Very happy with all aspects of our insurance',\n",
       " 'Quick quoteQuick service',\n",
       " 'The price compared to other insurance',\n",
       " 'My grandaughter cam home on holiday for a few days. I was able to put her onto my insurance without any trouble and it was very reasonable. Well done LV',\n",
       " 'Ease of filling in the required info',\n",
       " 'so easy',\n",
       " 'It was the price I had in mind to pay for my car insurance......well pleased!!',\n",
       " 'Happy with brand and ease of systems.',\n",
       " 'easy to purchase  value for money  and you have a convenient office to call if needed',\n",
       " 'So easy to set upb',\n",
       " 'Ease of online purchase.',\n",
       " 'As stated very easy to purchase on line.Even a pensioner can do it!',\n",
       " \"Upgraded with a courtesy car & still cheaper than our previous insurer's renewal quote.\",\n",
       " 'It covered all the required points fairly clearly.',\n",
       " 'Polite girl. New all information I needed.',\n",
       " 'The ease at which I purchased',\n",
       " 'On line quote 15% cheaper than contacting LV on phone',\n",
       " \"180 days European cover. Clear and precise explanations of what's covered.\",\n",
       " 'Reviewer left no comment',\n",
       " 'Great valueEasy to deal with',\n",
       " 'Was easy to do',\n",
       " 'User friendly website easy to navigate from start to finish',\n",
       " 'We wanted a 2-car policy which LV provides.  Relatively easy to enter data about drivers and cars.  Various pricing options at the end depending on excess, legal cover, courtesy cars, etc which enable you to adjust the cost to your needs.',\n",
       " 'Reviewer left no comment',\n",
       " 'Easy to follow online quote directions. Well laid out quote information and simple to change details as you go through the process.',\n",
       " 'It was very easy and quick to buy online. Easy to add on additionals, all with a  voluntary excess of \\\\xc2\\\\xa3250, which was great.',\n",
       " 'Great value for your money easy to apply recommend LV toEveryone Iam happy costumer',\n",
       " 'So easy to do on line , the excess were very clear , it was easy to add my extra requirements, and the form was very easy to edit ,I could save my quote and come back to it when required',\n",
       " 'good cover at a good price',\n",
       " 'Cheapest yet good value for money.',\n",
       " 'Price',\n",
       " 'Also easy to speak to you on the phone',\n",
       " 'Ease of purchase',\n",
       " 'Cheapest reliable cover on compare the market for the excess fee I wanted to pay',\n",
       " 'I had completed a car Insurance comparison online and LV came out cheaper with more included than current policy and other competitive companies.It was easy to buy online, very straight forward and no hassle. Confirmation through really quickly.',\n",
       " 'Easy to use',\n",
       " 'Easy as you like from start to finish',\n",
       " 'The whole process was seamless and great competitive price.',\n",
       " 'Easy to set up, all documents sent via email.',\n",
       " \"This wasn't the first time I had found LV= to be enthusiastic to provide cover specific to my needs - at an attractive premium.For someone who hops the channel to spend extended periods in Europe and needs excellent European breakdown cover in addition to all else, LV='s combination is the most comprehensive on offer by a country kilometer.No more the Bulldog for us.\",\n",
       " 'lower by \\\\xc2\\\\xa3250 than my usual insurer',\n",
       " 'Easy to apply on line and extremely competitive pricing',\n",
       " 'eASY TO NAVIGATE WEB SITE',\n",
       " 'Offered a great saving on my previous renewal premium',\n",
       " 'Brilliant website. Attractive, easy on the eye, easy to use.Well done!',\n",
       " 'very good',\n",
       " 'Reviewer left no comment',\n",
       " 'Easy',\n",
       " 'Easy to use',\n",
       " \"It's nice to search for car insurance and not have people ringing all the time\",\n",
       " 'Value for your money',\n",
       " 'Web page, ease of use.',\n",
       " 'Grudge every penny of insurance....  it is a necessary evil....   LV were the cheapest I could find',\n",
       " 'Easy to purchase',\n",
       " 'Good price and cover',\n",
       " 'Every covered needed',\n",
       " 'Price is very good',\n",
       " 'Easy to purchase Good value for the price I paidMy documents were posted to me very quickly',\n",
       " 'Great insurance cover, that is fair and reasonable at a very good price in comparison to others available.',\n",
       " 'Price',\n",
       " 'Easy to understand. Add on are is to access',\n",
       " 'Reviewer left no comment',\n",
       " 'Half the cost of Saga insurance',\n",
       " 'Website easy to use - easily able to go back and change and review things without losing data',\n",
       " 'Fantastic customer service. Got extra discount for adding a second car. Worked out a lot cheaper than our previous insurer.',\n",
       " 'So easy and straight forward very user friendly',\n",
       " 'Easy to use website',\n",
       " 'Easy to set up. Good price.',\n",
       " 'Price on the comparison site',\n",
       " 'Easy process purchasing insurance online',\n",
       " 'Fair deal.',\n",
       " 'The price is more than fifty percent less than I was originally paying plus all of the extras',\n",
       " 'Easy to access unlike other Web sites that seem to require you to phone them when all you need to do is to make your payment',\n",
       " 'Reviewer left no comment',\n",
       " 'Website easy with the option to stop/save with a view to continue later. And you get the information you need from the DVLA. But mainly the price!',\n",
       " 'Easy and straight forward',\n",
       " 'The best value price by a long way',\n",
       " 'The best deal I found.',\n",
       " 'Easy to buy on line, good value for money. Someone always at the end of the phone if you need them',\n",
       " 'Easy to use web site',\n",
       " 'It was by far the lowest quote, but it also seems to be the only policy that includes up to 180 days cover in continental Europe as standard. This is an important consideration for me as I spend a few months each year in France.',\n",
       " 'Really helpful advise by the telephone assistant.',\n",
       " 'The use of paper certificates!',\n",
       " 'Free European cover',\n",
       " 'Competitive Price for cover selectedMulti policy discount',\n",
       " 'Ease of application',\n",
       " 'Everything',\n",
       " 'Enabled me to tailor to my needs easily so I didn\\\\xe2\\\\x80\\\\x99t have to pay for items that did not represent best value to me.',\n",
       " 'Price',\n",
       " 'The easiest quote system I\\\\xe2\\\\x80\\\\x99ve ever used. Questions were short, simple, relevant, ease to follow and documents available when they needed to be.',\n",
       " 'Great value.',\n",
       " 'am impressed by LV home as well as car insurance prices in comparison to other insurers price ranges.',\n",
       " 'much cheaper than the quote I had received from my usual insurer.',\n",
       " 'Form clearly set out, and easy to fill in. Cost a very big factor in me purchasing my car policy with you.',\n",
       " 'I booked through Compare the market .Some other companies prices changed between quoting and buying .Yours remained constant . Thank you.',\n",
       " 'Value',\n",
       " 'Fair price, good reputation generally.',\n",
       " 'good',\n",
       " 'Reviewer left no comment',\n",
       " 'Quick efficient service easy to foll on line. Competitive price',\n",
       " 'I am happy I have found a cheap car insurance.',\n",
       " 'Easy and straight forward.',\n",
       " 'Very easy to purchase.',\n",
       " 'Easy to arrange and set up. I suppose coming in at under \\\\xc2\\\\xa3200 for fully comprehensive these days is considered cheap I have to admit it was the best price I could find, for proper Insurance with this level of cover.',\n",
       " 'Very easy to do online, clear and simple and good value for money',\n",
       " 'Easily understood website',\n",
       " 'Just did it all on line so easy',\n",
       " 'Easy to do',\n",
       " \"Good price - I saved \\\\xc2\\\\xa3130 over previous insurer's renewal price.\",\n",
       " 'Reviewer left no comment',\n",
       " 'Good online quote website.',\n",
       " 'a good company too deal with, as I found out when I owned Crama coachworks bell bar ltdnot',\n",
       " 'Did it all on line and the car was insured staight away. No hard sell. Just information that i needed and they needed.',\n",
       " 'LV are so straight forward to use and the fact \"Which\" really rate them gives great piece of mind in a market where if you go for cheap price you may regret it if you come to make a claim. With LV they price well and great service',\n",
       " 'Nice and easy to set up on line.',\n",
       " 'Easy to arrange. Paperwork instantly received. Good value for money.',\n",
       " 'Easy website to follow and good price but real test of all insurance is when a claim occurs !!',\n",
       " 'Most driver and vehicle details were obtained from DVLA without tedious form filling.',\n",
       " 'Competitive premium for me in the current market.  Easy to arrange online',\n",
       " 'Just easy to use and good competitive prices. I hope I can stay with LV in the future.',\n",
       " 'compares well with others',\n",
       " 'Very easy to use motor insurance application form - easy to add extras such as protected no claims bonus.Very good level of cover as standard.',\n",
       " 'Good package for a great price !',\n",
       " 'Quick',\n",
       " 'The best bit I liked about the insurance quote was the actual price of it it was one of the best prices that I could get anywhere on the market and would recommend it to anybody',\n",
       " 'Very. Easy to use website.   Good  priceeasy',\n",
       " 'Easy to set up. Competitive quote.',\n",
       " 'They cover fully comp as standard travelling abroad in Europe. 180 days in total unlike Esure which only cover you 3rd party and charge more!',\n",
       " 'How easy it was',\n",
       " 'Website was very user friendly',\n",
       " 'The ease of doing it on line.the quote for the insurance and the break down cover together I could not believe it .the insurance quote I had from my previous insurer was a lot higher.yes I am very pleased.',\n",
       " 'The price',\n",
       " 'Very easy to use website, great value for money',\n",
       " 'Good value with a multicar purchase - cheapest with a bigger company I found.Had to phone and excellent customer service without background call centre noise. Marie was extremely helpful and patient.',\n",
       " 'Nice relatively easy website to navigate around.',\n",
       " 'Website easy to navigate and seems very good value for money offering all of the add-ons possible from car hire to legal protection etc so quite self service and not too long winded was quite quick to process.  Just waiting for my documents now as i like a paper copy for in the car if necessary.',\n",
       " 'value for money, easy to arrange and cheaper online, easy to change vehicles mid policy.',\n",
       " 'Cheaper than normal',\n",
       " 'easy to dd what you require',\n",
       " 'Very comparable with the cover I had but 30%  cheaper.',\n",
       " 'JUST QUICK',\n",
       " 'JUST QUICK',\n",
       " 'Nothing very easy',\n",
       " 'Easy to setup',\n",
       " 'Easy to access',\n",
       " 'Price',\n",
       " 'easy to use web site, Reputable company with good feedback',\n",
       " 'It was so easy to do online,and at leisure.',\n",
       " 'The site was easy to use could understand everything and there were no hidden costs',\n",
       " 'Good value',\n",
       " 'Easy to navigate and was able to complete the transaction with no trouble',\n",
       " 'Included everything I wanted at a good price.',\n",
       " 'So easy to get a quote and such excellent value.',\n",
       " 'easy to use website competitive rate',\n",
       " 'Easy and quick to fill in and get our price.',\n",
       " 'Good overall service',\n",
       " 'Simple, Straight forward questions to answer.',\n",
       " 'Easy to complete and value for money',\n",
       " 'Filling in the questionaire was straight forward',\n",
       " 'I had my car insurance with this company but by changing it to on line I saved my self \\\\xc2\\\\xa360 exactly same insurance .',\n",
       " 'Good price Easy to purchase',\n",
       " 'Very helpful customer service team.  They were friendly and knowledgeable about their products.',\n",
       " 'Fairly simple to get a quote and turn it into a purchase. Good clear website easy to navigate. Documents are clear and straightforward.',\n",
       " 'I saved almost \\\\xc2\\\\xa3600 on my renewal from AXA !! It was really easy to complete the form',\n",
       " 'Easy to obtain and hassle free.',\n",
       " 'easy to follow questions on application',\n",
       " 'I have just insured a Tesla, great price compared to most and good cover. Some insurers couldn\\\\xe2\\\\x80\\\\x99t even offer me anything even tho it is the safest saloon in the world with some great security features. Well done LV',\n",
       " 'Straight to the point',\n",
       " 'Excellent website, easy to use backed by one of Britains oldest reliable companies.',\n",
       " 'So quick and easy to use on line service Telephone staff very helpful took',\n",
       " 'It offered me the best quote compared to other companies',\n",
       " 'Liked that you could add what you wanted to the base cost',\n",
       " 'Plain English',\n",
       " 'All completed easily online',\n",
       " 'Cheaper than others',\n",
       " 'Very cheap and easy to arrange',\n",
       " 'Great help, on the phone',\n",
       " 'I have managed to save myself over \\\\xc2\\\\xa380 per year with your company. I don\\\\xe2\\\\x80\\\\x99t normally check out other policies but my previous insurance company whom I have been with for quite a few years went up quite a lot. So thank you.',\n",
       " 'Easy to use site',\n",
       " 'Good price',\n",
       " 'ease of use with website; decided on purchase of car insurance as was nearly 170 pounds cheaper than my renewal quote with another insurance provider',\n",
       " 'So easy to complete online procedure',\n",
       " 'Reviewer left no comment',\n",
       " 'Used to have a reasonable;e customer service',\n",
       " \"Having spent an inordinate amount of time on many of the competitors various websites, I found the LV quotation page surprisingly easy to negotiate.I particularly liked the  optional add-on's (protection on NC, hire car extras, etc) clear and concise. The multicar deal seems to be good...I also aim to bring a classic car back onto the road this year (after substantial renovation work), the classic car insurance is something I will look closely at.\",\n",
       " 'The website is really user friendly. Live chat was available  to answer the queries  I had and the price was great.',\n",
       " 'Cheapest option available',\n",
       " 'Very good price and easy to do',\n",
       " 'Easy to select options good price',\n",
       " 'I saved over \\\\xc2\\\\xa3250 when I insured my new car by changing to LV from my old insurer',\n",
       " 'It was the cheapest',\n",
       " 'So easy to deal with. Very competitive and no hassle.',\n",
       " 'Quick and easy web site to use. good value.',\n",
       " 'Very easy, fair terms',\n",
       " 'Good value, east to chat.',\n",
       " 'easy to understand process',\n",
       " 'So easy to do!',\n",
       " 'Easy to get quotes',\n",
       " 'Pricing is competitive.',\n",
       " 'Brilliant easy to use website fantastic value for money.... excellent speed & efficientsey',\n",
       " 'covers my sunroof',\n",
       " 'Very easy to do. Documents came through as promised.',\n",
       " 'Great price',\n",
       " 'Web site easy to use.',\n",
       " 'Easy to organise',\n",
       " 'Best quote and reasonable breakdown cover.',\n",
       " 'Easy to access and buy insurance online',\n",
       " 'So easy to set up and friendly staff willing to help',\n",
       " 'When I did the original quote it was quick and hassle free',\n",
       " 'Easy to arrange and good price',\n",
       " 'price',\n",
       " 'Easy to follow instructions and straight forward information regarding the products and the extras that can be purchased as part of your contract.Very well priced for the cover required.',\n",
       " 'Pretty straightforward process to fine tune your individual insurance requirements, apart from breakdown cover process.',\n",
       " 'Easy purchase. Excellent insurance company. I will insure our other car with you if I can',\n",
       " 'Reviewer left no comment',\n",
       " 'easy to setup',\n",
       " 'I have found L.V. over several years to be easy to deal with and a very pleasant staff who are totaly proffessional.',\n",
       " 'Straightforward,',\n",
       " 'When I made a mistake it was easily rectified',\n",
       " 'The process was quick and easy and it was the best deal.',\n",
       " 'No hassle',\n",
       " 'Easy to complete the application details.  Pictorial approach makes it simpler.',\n",
       " 'Love the multi car option, easy application and good price',\n",
       " 'Quick and easy',\n",
       " 'So far so good. The set-up and value for money was all good but I have yet to make a claim so I have no idea how good my overall insurance experience will be.',\n",
       " 'I got cheaper car insurance on internet with same company',\n",
       " 'the price well outshone other companies',\n",
       " 'had a query about renewal,,had a chat online with Dan, resolved there and then.Better than phone call or e-mail.',\n",
       " 'Cost',\n",
       " 'It is a new policy so I hope it will be good if ever needed.',\n",
       " 'Easy to use website and quick to react to altering the excess amount.',\n",
       " 'Renewal easy and lots of time allowed if I wanted to change my mind about who I was buying from',\n",
       " 'It covered all the items I was looking for.',\n",
       " 'Easy n fast no problems',\n",
       " 'Easy site, liked the deposit then pay balance option available.',\n",
       " 'includes items that are extra on other insurances',\n",
       " 'cheaper than having one car quote',\n",
       " 'cheaper than having one car quote',\n",
       " 'Easy to purchase',\n",
       " 'how car insurance should be',\n",
       " 'very easy to arrange and great value',\n",
       " 'Easy and quick',\n",
       " 'Easy, quick',\n",
       " 'Great value for your car insurance',\n",
       " 'The right insurance for the right price.',\n",
       " 'Its indurance im not insane',\n",
       " 'very easy to purchase and cheapest available',\n",
       " 'Staff polite and easy to understand and did not mind how often I phonedAlso returned calls as neededand all cheaper than any others',\n",
       " 'All good. Staff extremely helpful.',\n",
       " 'Same cover, great price!',\n",
       " 'It was so quick and easy to do.',\n",
       " 'Just having a very good price, compared to others it is excellent.',\n",
       " 'Option of type of courtesy car being available should one be required.',\n",
       " 'Good points put another named driver on and lowered premium',\n",
       " 'Great policy and exactly as I wanted',\n",
       " 'I was so easy to complete.',\n",
       " 'Easy to deal with',\n",
       " 'No excess to pay, key cover included, by far the most inclusive car insurance I had quoted.',\n",
       " 'Quick .easy and affordable',\n",
       " 'None',\n",
       " 'Very helpful chat service',\n",
       " 'Very competitive plus 180 days E U comprehensive cover',\n",
       " 'Easy to understand',\n",
       " 'Reviewer left no comment',\n",
       " 'Competitive price - well established insurer',\n",
       " 'Very easy to set up',\n",
       " 'Easy to  understand the cover  required   and the  cost of any  extra  needs',\n",
       " 'Easy to set up',\n",
       " 'Easy to use website',\n",
       " 'Good cover. Good price',\n",
       " 'Easy to use site',\n",
       " 'Easy to use website. Direct link from Compare the Market.Good value for money and a full range of options.',\n",
       " 'Very good value,  Help if needed when making application. easy to complete application form.',\n",
       " 'Easy to organise and fantastic phone support from LV. Really appreciated the time taken to discuss very helpful staff.',\n",
       " 'Saved me \\\\xc2\\\\xa3150 on my renewal and it was so easy to do',\n",
       " 'helpful over the phone',\n",
       " 'Well clear and easy.',\n",
       " 'Very quick and easy and very competitive',\n",
       " 'Good price plus cash back from a cash back site, easy purchase, great price. Used last year too, my husband uses LV too. Been very pleased so far.',\n",
       " 'Easy navigation through application',\n",
       " 'Very reasonable price.',\n",
       " 'The price was competitive considering the extra options I had included.The web site was easy to use. I had a glitch on my internet connection before I had the opportunity to use the \\\\xe2\\\\x80\\\\x9csave for later button\\\\xe2\\\\x80\\\\x9d but when I got back in I was pleased to find that it has remembered my selections.',\n",
       " 'Same cover as my previous quote but a hundred pounds cheaper',\n",
       " 'no comments at this stage. over all ok.',\n",
       " 'Quick and easy quote to insured.',\n",
       " 'cheapest quote for my particular case; no excess important to me.',\n",
       " 'All very efficient and easily sorted.',\n",
       " 'Easily purchased online, best value for being a first time insurance, other insurers quoted nearly double for same services.',\n",
       " 'Good value for pension',\n",
       " 'very favourable quote, lot less than I was expecting.Extra discount for already having other products with LV.',\n",
       " \"Easy to navigate website and being in Northern Ireland with excessive premiums each year, I reckon I've a great deal.\",\n",
       " 'Comprehensive policy at a fair price from a respected company.',\n",
       " 'Good priceHelpful staff',\n",
       " 'Easy to organise due to a good website. Competitive price from trusted company.',\n",
       " 'price',\n",
       " 'Good price, easy to do',\n",
       " 'cheap insurance',\n",
       " 'Very quick and simple',\n",
       " 'Cover for uninsured drivers',\n",
       " 'Just so quick and easy.',\n",
       " 'Quick and easy to set up',\n",
       " 'very easy to get a quote. used this company for a couple of years . had no problems whatsoever.  probably one of the best.',\n",
       " 'It was the best price available.',\n",
       " 'Reviewer left no comment',\n",
       " 'Great customer .... UK .... service.  Spoke to a customer service representative and it was a good experience for a change !!!!',\n",
       " 'they post out your insurance cover instead of you having to print it out yourself',\n",
       " \"Plain English,sets out exactly what's covered and what's not.\",\n",
       " 'Good price',\n",
       " 'easy to buy',\n",
       " ...]"
      ]
     },
     "execution_count": 106,
     "metadata": {},
     "output_type": "execute_result"
    }
   ],
   "source": [
    "positive"
   ]
  },
  {
   "cell_type": "code",
   "execution_count": 107,
   "metadata": {},
   "outputs": [
    {
     "data": {
      "text/plain": [
       "Reviewer left no comment                                                                                                                                                                                                                                 383\n",
       "Price                                                                                                                                                                                                                                                     91\n",
       "Quick and easy                                                                                                                                                                                                                                            60\n",
       "Easy to use website                                                                                                                                                                                                                                       52\n",
       "Good price                                                                                                                                                                                                                                                48\n",
       "Value for money                                                                                                                                                                                                                                           39\n",
       "Good value                                                                                                                                                                                                                                                34\n",
       "All good                                                                                                                                                                                                                                                  34\n",
       "The price                                                                                                                                                                                                                                                 32\n",
       "Easy to use                                                                                                                                                                                                                                               31\n",
       "Easy to purchase                                                                                                                                                                                                                                          25\n",
       "Easy                                                                                                                                                                                                                                                      24\n",
       "Ease of purchase                                                                                                                                                                                                                                          24\n",
       "Easy to do                                                                                                                                                                                                                                                24\n",
       "price                                                                                                                                                                                                                                                     24\n",
       "Ease of use                                                                                                                                                                                                                                               22\n",
       "Good value for money                                                                                                                                                                                                                                      21\n",
       "Easy to set up                                                                                                                                                                                                                                            18\n",
       "Everything                                                                                                                                                                                                                                                15\n",
       "Cheap                                                                                                                                                                                                                                                     14\n",
       "All                                                                                                                                                                                                                                                       14\n",
       "Great price                                                                                                                                                                                                                                               14\n",
       "Easy to use web site                                                                                                                                                                                                                                      14\n",
       "None                                                                                                                                                                                                                                                      14\n",
       "Best price                                                                                                                                                                                                                                                13\n",
       "Easy website                                                                                                                                                                                                                                              13\n",
       "Very easy                                                                                                                                                                                                                                                 12\n",
       "Competitive price                                                                                                                                                                                                                                         12\n",
       "Quick                                                                                                                                                                                                                                                     11\n",
       "Very competitive price                                                                                                                                                                                                                                    11\n",
       "                                                                                                                                                                                                                                                        ... \n",
       "Easy and good value                                                                                                                                                                                                                                        1\n",
       "Previous good experience with a claim and ease of form completion                                                                                                                                                                                          1\n",
       "Good advice                                                                                                                                                                                                                                                1\n",
       "Managed to get a lot cheaper on line price with breakdown included and was still cheaper than automatic renewal! The price shouldn\\xe2\\x80\\x99t be a lot difference especially as we hold our house and another car with LV insurance.                     1\n",
       "Competitive, Clear & Easy to navigate                                                                                                                                                                                                                      1\n",
       "what a good deal                                                                                                                                                                                                                                           1\n",
       "Took out a multi-car policy, saved \\xc2\\xa3100 on combined annual and process was very easy                                                                                                                                                                1\n",
       "Price was cheaper than my renewal                                                                                                                                                                                                                          1\n",
       "Very good value for money. I saved over \\xc2\\xa3120 compared with by renewal quote from Saga. Other Which Best Buy insurer's quotes were similar to Saga's.                                                                                                1\n",
       "Cheaper than everyone else yet still one of the best policies on offer                                                                                                                                                                                     1\n",
       "Very easy and quick to purchaseThe price was extremely competitive                                                                                                                                                                                         1\n",
       "Very easy and what a great deal!!!                                                                                                                                                                                                                         1\n",
       "Clarity                                                                                                                                                                                                                                                    1\n",
       "Easy to complete on line. On line chat assistance is very useful and helpful. Didn\\xe2\\x80\\x99t feel like the company was trying to rip me off or treat me as if I was stupid as I have experienced with other insurers and brokers over recent years      1\n",
       "Beat my existing insurer handsomely on price                                                                                                                                                                                                               1\n",
       "Easy to get a quote and add or subtract options. A fair price.                                                                                                                                                                                             1\n",
       "Good value with a multicar purchase - cheapest with a bigger company I found.Had to phone and excellent customer service without background call centre noise. Marie was extremely helpful and patient.                                                    1\n",
       "Renewed online which was very easy and I definitely loved the fact that I saved money                                                                                                                                                                      1\n",
       "Very easy and clear                                                                                                                                                                                                                                        1\n",
       "EUROPE  180 days cover at no extra cost                                                                                                                                                                                                                    1\n",
       "Good user interface for mobile phone.Good customer service when policy cover needed to be changed.Very good price.                                                                                                                                         1\n",
       "Took a break from LV for a cheaper quote. Returned to LV for a cheaper quote :) Easy to complete online via a comparison website.                                                                                                                          1\n",
       "The lady was listening and tried her best to convince me                                                                                                                                                                                                   1\n",
       "Cut \\xc2\\xa3140 from my existing insurers renewal quote.\\xf0\\x9f\\x98\\x8a\\xf0\\x9f\\x91\\x8d                                                                                                                                                                   1\n",
       "good on-line system                                                                                                                                                                                                                                        1\n",
       "very professional                                                                                                                                                                                                                                          1\n",
       "So easy for us silver surfers to understand and purchase.  Have already recommended LV to our neighbours and top my daughter and son.                                                                                                                      1\n",
       "The web site is so easy and quick to use and clear information given.                                                                                                                                                                                      1\n",
       "Used before & all quite straightforward... Best multicar quote & excess is lower than my renewal with Aviva too... Happy days!                                                                                                                             1\n",
       "Once you know how the website worksVery Straightforward                                                                                                                                                                                                    1\n",
       "Length: 10409, dtype: int64"
      ]
     },
     "execution_count": 107,
     "metadata": {},
     "output_type": "execute_result"
    }
   ],
   "source": [
    "my_count = pd.Series(positive).value_counts()\n",
    "my_count"
   ]
  },
  {
   "cell_type": "code",
   "execution_count": 108,
   "metadata": {
    "collapsed": true
   },
   "outputs": [],
   "source": [
    "# Many positive feedback the most common positive feedbacks are:\n",
    "# Price\n",
    "# Quick and easy\n",
    "# Easy to use website"
   ]
  },
  {
   "cell_type": "code",
   "execution_count": 109,
   "metadata": {
    "collapsed": true
   },
   "outputs": [],
   "source": [
    "sentences = ['Reviewer left no comment']\n",
    "\n",
    "for sentence in sentences:\n",
    "    while sentence in positive:\n",
    "        positive.remove(sentence)"
   ]
  },
  {
   "cell_type": "code",
   "execution_count": 110,
   "metadata": {},
   "outputs": [
    {
     "data": {
      "text/plain": [
       "11989"
      ]
     },
     "execution_count": 110,
     "metadata": {},
     "output_type": "execute_result"
    }
   ],
   "source": [
    "len(positive) # compare to 4605 negative"
   ]
  },
  {
   "cell_type": "code",
   "execution_count": 111,
   "metadata": {
    "collapsed": true
   },
   "outputs": [],
   "source": [
    "thefile = open('positive.txt', 'w')\n",
    "for item in positive:\n",
    "  thefile.write(\"%s\\n\" % item)\n",
    "thefile.close()"
   ]
  },
  {
   "cell_type": "code",
   "execution_count": 112,
   "metadata": {
    "collapsed": true
   },
   "outputs": [],
   "source": [
    "with open('positive.txt') as positive:\n",
    "    positive = positive.read()"
   ]
  },
  {
   "cell_type": "code",
   "execution_count": 113,
   "metadata": {
    "collapsed": true
   },
   "outputs": [],
   "source": [
    "# Count number of words including punctuation"
   ]
  },
  {
   "cell_type": "code",
   "execution_count": 114,
   "metadata": {},
   "outputs": [
    {
     "name": "stdout",
     "output_type": "stream",
     "text": [
      "Total number of tokens: 127404\n"
     ]
    }
   ],
   "source": [
    "from nltk.tokenize import word_tokenize\n",
    "\n",
    "try:  # py3\n",
    "    all_tokens = [t for t in word_tokenize(positive)]\n",
    "except UnicodeDecodeError:  # py27\n",
    "    all_tokens = [t for t in word_tokenize(corpus_all_in_one.decode('utf-8'))]\n",
    "\n",
    "print(\"Total number of tokens: {}\".format(len(all_tokens)))"
   ]
  },
  {
   "cell_type": "code",
   "execution_count": 115,
   "metadata": {},
   "outputs": [
    {
     "name": "stdout",
     "output_type": "stream",
     "text": [
      "to\t6399\n",
      ".\t6020\n",
      "and\t4815\n",
      "easy\t3176\n",
      "the\t3020\n",
      ",\t2460\n",
      "Easy\t2026\n",
      "price\t1908\n",
      "for\t1788\n",
      "a\t1775\n",
      "I\t1742\n",
      "was\t1650\n",
      "of\t1567\n",
      "with\t1372\n",
      "good\t1348\n",
      "very\t1261\n",
      "on\t1214\n",
      "use\t1165\n",
      "my\t1155\n",
      "insurance\t1110\n"
     ]
    }
   ],
   "source": [
    "from collections import Counter\n",
    "\n",
    "total_term_frequency = Counter(all_tokens)\n",
    "\n",
    "for word, freq in total_term_frequency.most_common(20):\n",
    "    print(\"{}\\t{}\".format(word, freq))"
   ]
  },
  {
   "cell_type": "code",
   "execution_count": 116,
   "metadata": {},
   "outputs": [
    {
     "name": "stdout",
     "output_type": "stream",
     "text": [
      "easy\t3176\n",
      "Easy\t2026\n",
      "price\t1908\n",
      "I\t1742\n",
      "good\t1348\n",
      "use\t1165\n",
      "insurance\t1110\n",
      "value\t1059\n",
      "Very\t1026\n",
      "quote\t912\n",
      "cover\t897\n",
      "website\t850\n",
      "Good\t840\n",
      "online\t702\n",
      "purchase\t674\n",
      "The\t655\n",
      "LV\t634\n",
      "money\t627\n",
      "car\t617\n",
      "service\t563\n"
     ]
    }
   ],
   "source": [
    "for content in positive:\n",
    "    tokens = word_tokenize(content)\n",
    "    \n",
    "stop_list = stopwords.words('english') + list(string.punctuation)\n",
    "\n",
    "tokens_no_stop = [token for token in all_tokens\n",
    "                        if token not in stop_list]\n",
    "\n",
    "total_term_frequency_no_stop = Counter(tokens_no_stop)\n",
    "\n",
    "for word, freq in total_term_frequency_no_stop.most_common(20):\n",
    "    print(\"{}\\t{}\".format(word, freq))"
   ]
  },
  {
   "cell_type": "code",
   "execution_count": 117,
   "metadata": {},
   "outputs": [
    {
     "name": "stdout",
     "output_type": "stream",
     "text": [
      "easi\t5236\n",
      "price\t2535\n",
      "good\t2205\n",
      "insur\t1733\n",
      "use\t1396\n",
      "valu\t1193\n",
      "quot\t1107\n",
      "cover\t1037\n",
      "websit\t992\n",
      "quick\t989\n",
      "purchas\t785\n",
      "competit\t769\n",
      "onlin\t744\n",
      "car\t708\n",
      "lv\t686\n",
      "money\t636\n",
      "servic\t624\n",
      "great\t617\n",
      "site\t596\n",
      "compani\t541\n"
     ]
    }
   ],
   "source": [
    "for content in positive:\n",
    "    tokens = word_tokenize(content)\n",
    "\n",
    "from nltk.stem import PorterStemmer\n",
    "\n",
    "stemmer = PorterStemmer()\n",
    "all_tokens_lower = [t.lower() for t in all_tokens]\n",
    "\n",
    "tokens_no_stop = [token for token in all_tokens\n",
    "                        if token not in stop_list]\n",
    "\n",
    "tokens_normalised = [stemmer.stem(t) for t in all_tokens_lower\n",
    "                                     if t not in stop_list]\n",
    "\n",
    "total_term_frequency_no_stop = Counter(tokens_no_stop)\n",
    "\n",
    "total_term_frequency_normalised = Counter(tokens_normalised)\n",
    "\n",
    "for word, freq in total_term_frequency_normalised.most_common(20):\n",
    "    print(\"{}\\t{}\".format(word, freq))"
   ]
  },
  {
   "cell_type": "code",
   "execution_count": 118,
   "metadata": {
    "collapsed": true
   },
   "outputs": [],
   "source": [
    "# We can see that the most common phrases are: \n",
    "# easy\n",
    "# price\n",
    "# quick\n",
    "# service"
   ]
  },
  {
   "cell_type": "code",
   "execution_count": 119,
   "metadata": {},
   "outputs": [
    {
     "name": "stdout",
     "output_type": "stream",
     "text": [
      "('Easy', 'use', 'website', 'competitive', 'price')\t5\n",
      "('Best', 'price', 'I', 'could', 'find')\t5\n",
      "('Easy', 'use', 'website', 'good', 'value')\t5\n",
      "('value', 'money', 'Easy', 'use', 'website')\t4\n",
      "('Quick', 'easy', 'good', 'value', 'money')\t4\n",
      "('price', 'Very', 'easy', 'use', 'website')\t4\n",
      "('value', 'money', 'Good', 'value', 'money')\t4\n",
      "('good', 'price', 'Easy', 'use', 'website')\t4\n",
      "('use', 'website', 'Easy', 'use', 'website')\t4\n",
      "('easy', 'use', 'Easy', 'use', 'website')\t4\n",
      "('company', 'Easy', 'use', 'web', 'site')\t4\n",
      "('Good', 'customer', 'service', 'value', 'money')\t3\n",
      "('cheaper', 'previous', 'insurer', 'Very', 'easy')\t3\n",
      "('Easy', 'use', 'website', 'Easy', 'use')\t3\n",
      "('Very', 'easy', 'use', 'website', 'great')\t3\n",
      "('easy', 'use', 'website', 'great', 'value')\t3\n",
      "('Great', 'value', 'money', 'Good', 'value')\t3\n",
      "('Have', 'used', 'LV', 'many', 'years')\t3\n",
      "('Very', 'competitive', 'pricing', 'Easy', 'use')\t3\n",
      "('easy', 'get', 'quote', 'good', 'price')\t3\n",
      "('Easy', 'use', 'website', 'Very', 'competitive')\t3\n",
      "('Good', 'value', 'easy', 'use', 'website')\t3\n",
      "('Very', 'good', 'value', 'money', 'easy')\t3\n",
      "('price', 'web', 'site', 'easy', 'use')\t3\n",
      "('web', 'site', 'easy', 'use', 'good')\t3\n",
      "('Easy', 'use', 'web', 'site', 'Easy')\t3\n",
      "('good', 'value', 'money', 'Quick', 'easy')\t3\n",
      "('Easy', 'use', 'website', 'Great', 'price')\t3\n",
      "('good', 'price', 'Good', 'value', 'money')\t3\n",
      "('easy', 'use', 'Good', 'value', 'money')\t3\n",
      "('Quick', 'easy', 'Easy', 'use', 'website')\t3\n",
      "('cheaper', 'renewal', 'quote', 'previous', 'insurer')\t3\n",
      "('The', 'whole', 'process', 'quick', 'easy')\t3\n",
      "('Easy', 'use', 'website', 'good', 'price')\t3\n",
      "('Good', 'value', 'money', 'Very', 'easy')\t3\n",
      "('Good', 'value', 'easy', 'use', 'site')\t3\n",
      "('Very', 'easy', 'use', 'website', 'Very')\t2\n",
      "('reasonable', 'cost', 'Easy', 'understand', 'website')\t2\n",
      "('sort', 'online', 'Great', 'value', 'money')\t2\n",
      "('use', 'website', 'competitive', 'price', 'Easy')\t2\n",
      "('Easy', 'get', 'quote', 'competitive', 'compared')\t2\n",
      "('get', 'quote', 'competitive', 'compared', '``')\t2\n",
      "('quote', 'competitive', 'compared', '``', 'quality')\t2\n",
      "('competitive', 'compared', '``', 'quality', \"''\")\t2\n",
      "('compared', '``', 'quality', \"''\", 'rivals')\t2\n",
      "('``', 'quality', \"''\", 'rivals', 'judged')\t2\n",
      "('quality', \"''\", 'rivals', 'judged', 'near')\t2\n",
      "(\"''\", 'rivals', 'judged', 'near', 'top')\t2\n",
      "('rivals', 'judged', 'near', 'top', 'Which')\t2\n",
      "('judged', 'near', 'top', 'Which', 'recommended')\t2\n"
     ]
    }
   ],
   "source": [
    "# The most popular opinion are: \n",
    "# Easy to use website, competittive price\n",
    "# Best price I could find\n",
    "# Good customer serivce and value for money\n",
    "# cheaper renewal quote than previous insurer\n",
    "# \n",
    "phrases = Counter(ngrams(tokens_no_stop, 5))\n",
    "\n",
    "from nltk import ngrams\n",
    "\n",
    "for phrase, freq in phrases.most_common(50):\n",
    "    print(\"{}\\t{}\".format(phrase, freq))"
   ]
  },
  {
   "cell_type": "code",
   "execution_count": null,
   "metadata": {
    "collapsed": true
   },
   "outputs": [],
   "source": []
  },
  {
   "cell_type": "code",
   "execution_count": null,
   "metadata": {
    "collapsed": true
   },
   "outputs": [],
   "source": []
  },
  {
   "cell_type": "code",
   "execution_count": 120,
   "metadata": {
    "collapsed": true
   },
   "outputs": [],
   "source": [
    "# Point 3: Identify some unique experiences expressed by customers.\n",
    "# It leads from point 2 <negative> "
   ]
  },
  {
   "cell_type": "code",
   "execution_count": 121,
   "metadata": {
    "collapsed": true
   },
   "outputs": [],
   "source": [
    "# Website kept going round cricles, took longer need done\n",
    "# Each year send automatic renewal even if each year he check website\n",
    "# Standard cover could include additional extras\n",
    "# Easy to include second car\n"
   ]
  },
  {
   "cell_type": "code",
   "execution_count": null,
   "metadata": {
    "collapsed": true
   },
   "outputs": [],
   "source": []
  },
  {
   "cell_type": "code",
   "execution_count": 122,
   "metadata": {
    "collapsed": true
   },
   "outputs": [],
   "source": [
    "# For visualisation techniques please refer to wordcloud"
   ]
  },
  {
   "cell_type": "code",
   "execution_count": null,
   "metadata": {
    "collapsed": true
   },
   "outputs": [],
   "source": []
  },
  {
   "cell_type": "code",
   "execution_count": null,
   "metadata": {
    "collapsed": true
   },
   "outputs": [],
   "source": []
  }
 ],
 "metadata": {
  "kernelspec": {
   "display_name": "Python 3",
   "language": "python",
   "name": "python3"
  },
  "language_info": {
   "codemirror_mode": {
    "name": "ipython",
    "version": 3
   },
   "file_extension": ".py",
   "mimetype": "text/x-python",
   "name": "python",
   "nbconvert_exporter": "python",
   "pygments_lexer": "ipython3",
   "version": "3.6.3"
  }
 },
 "nbformat": 4,
 "nbformat_minor": 2
}
