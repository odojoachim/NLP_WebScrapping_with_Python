{
 "cells": [
  {
   "cell_type": "code",
   "execution_count": 46,
   "metadata": {
    "collapsed": true
   },
   "outputs": [],
   "source": [
    "# Task 1: 1.Go through the reviews (last 6-10 months) of consumer feedback\n",
    "\n",
    "# I scrapped the data for all and just cut last year out of the data frame"
   ]
  },
  {
   "cell_type": "code",
   "execution_count": 47,
   "metadata": {
    "collapsed": true
   },
   "outputs": [],
   "source": [
    "# First I gone on the website into inspect element form to get the data. \n",
    "# Challenge number 1: I had a problem with finding the text in html code as was hidden.\n",
    "# After longer inspection I found out that there are other websites pointing to the website. \n",
    "# Using this fact I sed beautiful Soup and request to get the data in txt file."
   ]
  },
  {
   "cell_type": "code",
   "execution_count": 48,
   "metadata": {
    "collapsed": true
   },
   "outputs": [],
   "source": [
    "# request and beautiful soup are popular packages for webscrapping in Python"
   ]
  },
  {
   "cell_type": "code",
   "execution_count": 49,
   "metadata": {
    "collapsed": true
   },
   "outputs": [],
   "source": [
    "import requests\n",
    "r = requests.get('https://mark.reevoo.com/reevoomark/embeddable_reviews?ajax=true&amp;locale=en-GB&amp;page=251&amp;per_page=20&amp;sku=CINSTY&amp;trkref=LV-GI#')"
   ]
  },
  {
   "cell_type": "code",
   "execution_count": 50,
   "metadata": {
    "collapsed": true
   },
   "outputs": [],
   "source": [
    "from bs4 import BeautifulSoup\n",
    "soup = BeautifulSoup(r.text, 'html.parser')"
   ]
  },
  {
   "cell_type": "code",
   "execution_count": 51,
   "metadata": {
    "collapsed": true
   },
   "outputs": [],
   "source": [
    "# Look for the all positive and all negative feedback on the website"
   ]
  },
  {
   "cell_type": "code",
   "execution_count": 52,
   "metadata": {
    "collapsed": true
   },
   "outputs": [],
   "source": [
    "results = soup.find_all('dd', attrs={'class':'pros'})\n",
    "results1 = soup.find_all('dd', attrs={'class': 'cons'})"
   ]
  },
  {
   "cell_type": "code",
   "execution_count": 53,
   "metadata": {},
   "outputs": [
    {
     "data": {
      "text/plain": [
       "20"
      ]
     },
     "execution_count": 53,
     "metadata": {},
     "output_type": "execute_result"
    }
   ],
   "source": [
    "len(results) # how many positive feedback we can find?"
   ]
  },
  {
   "cell_type": "code",
   "execution_count": 54,
   "metadata": {},
   "outputs": [
    {
     "data": {
      "text/plain": [
       "[<dd class=\"pros\">It was smooth and easy to set up.<br/>And most especially a great offer.</dd>,\n",
       " <dd class=\"pros\">All straight forward to deal with on line</dd>]"
      ]
     },
     "execution_count": 54,
     "metadata": {},
     "output_type": "execute_result"
    }
   ],
   "source": [
    "results[0:2] # print the result"
   ]
  },
  {
   "cell_type": "code",
   "execution_count": 55,
   "metadata": {},
   "outputs": [
    {
     "data": {
      "text/plain": [
       "<dd class=\"pros\">It was smooth and easy to set up.<br/>And most especially a great offer.</dd>"
      ]
     },
     "execution_count": 55,
     "metadata": {},
     "output_type": "execute_result"
    }
   ],
   "source": [
    "first_result = results[0]\n",
    "first_result"
   ]
  },
  {
   "cell_type": "code",
   "execution_count": 56,
   "metadata": {},
   "outputs": [
    {
     "data": {
      "text/plain": [
       "'It was smooth and easy to set up.And most especially a great offer.'"
      ]
     },
     "execution_count": 56,
     "metadata": {},
     "output_type": "execute_result"
    }
   ],
   "source": [
    "first_result.text # print the first result as a text"
   ]
  },
  {
   "cell_type": "code",
   "execution_count": 57,
   "metadata": {
    "collapsed": true
   },
   "outputs": [],
   "source": [
    "# Take all feedback on the side as a list of strings"
   ]
  },
  {
   "cell_type": "code",
   "execution_count": 58,
   "metadata": {},
   "outputs": [
    {
     "name": "stdout",
     "output_type": "stream",
     "text": [
      "('It was smooth and easy to set up.And most especially a great offer.',)\n",
      "('All straight forward to deal with on line',)\n",
      "('Web Site is very efficent',)\n",
      "('Price and cover',)\n",
      "('Speed of service and  unbeatable price',)\n",
      "('All good',)\n",
      "('Best price, easy comms and seem an established company.',)\n",
      "(\"Great customer service, you speak to someone in the UK, who understand your requirements and don't wait an age to get through. Sorted my change of policy first time with no issues. 5*****\",)\n",
      "('Great value for money',)\n",
      "('All the above',)\n",
      "('Ease of purchase',)\n",
      "('Competitive insurance rates.',)\n",
      "('Good value for what looks like wide range of cover.',)\n",
      "('Easy to purchase from your site. Very user friendly and no fuss',)\n",
      "('Excellent company, and price was equally excellent.',)\n",
      "('Cheapest quote I have found for this year.',)\n",
      "('Good priceAnswered phone quickly',)\n",
      "('The sales staff were extremely helpful, friendly and efficient. I had my car insurance sorted out in minutes.',)\n",
      "('Good price',)\n",
      "('All went well online',)\n"
     ]
    }
   ],
   "source": [
    "records = []\n",
    "for result in results:\n",
    "    positive = result.text,\n",
    "    records.append(positive),\n",
    "    print(positive)"
   ]
  },
  {
   "cell_type": "code",
   "execution_count": 59,
   "metadata": {},
   "outputs": [
    {
     "name": "stdout",
     "output_type": "stream",
     "text": [
      "('Reviewer left no comment',)\n",
      "('Reviewer left no comment',)\n",
      "('Nothing',)\n",
      "('Reviewer left no comment',)\n",
      "('Reviewer left no comment',)\n",
      "('No bad points',)\n",
      "(\"Nothing bad, you'll prob have to wait half an hour or so for email conformation of when taking out insurance. Not made a claim so can't comment on that.\",)\n",
      "('Nothing',)\n",
      "('Reviewer left no comment',)\n",
      "('No',)\n",
      "('None',)\n",
      "('Reviewer left no comment',)\n",
      "('The online dialogue was repetitive and inconsistent in parts.',)\n",
      "('The price could have been lower.',)\n",
      "('Reviewer left no comment',)\n",
      "('Could be even cheaper',)\n",
      "('I selected out of auto renew but paperwork said I was on this scheme',)\n",
      "('Reviewer left no comment',)\n",
      "('No free holiday',)\n",
      "('Reviewer left no comment',)\n"
     ]
    }
   ],
   "source": [
    "records1 = []\n",
    "for result in results1:\n",
    "    negative = result.text,\n",
    "    records1.append(negative),\n",
    "    print(negative)"
   ]
  },
  {
   "cell_type": "code",
   "execution_count": 60,
   "metadata": {},
   "outputs": [
    {
     "name": "stdout",
     "output_type": "stream",
     "text": [
      "[('It was smooth and easy to set up.And most especially a great offer.',), ('All straight forward to deal with on line',), ('Web Site is very efficent',), ('Price and cover',), ('Speed of service and  unbeatable price',), ('All good',), ('Best price, easy comms and seem an established company.',), (\"Great customer service, you speak to someone in the UK, who understand your requirements and don't wait an age to get through. Sorted my change of policy first time with no issues. 5*****\",), ('Great value for money',), ('All the above',), ('Ease of purchase',), ('Competitive insurance rates.',), ('Good value for what looks like wide range of cover.',), ('Easy to purchase from your site. Very user friendly and no fuss',), ('Excellent company, and price was equally excellent.',), ('Cheapest quote I have found for this year.',), ('Good priceAnswered phone quickly',), ('The sales staff were extremely helpful, friendly and efficient. I had my car insurance sorted out in minutes.',), ('Good price',), ('All went well online',)]\n"
     ]
    }
   ],
   "source": [
    "print(records)"
   ]
  },
  {
   "cell_type": "code",
   "execution_count": 61,
   "metadata": {},
   "outputs": [
    {
     "data": {
      "text/plain": [
       "['It was smooth and easy to set up.And most especially a great offer.',\n",
       " 'All straight forward to deal with on line',\n",
       " 'Web Site is very efficent',\n",
       " 'Price and cover',\n",
       " 'Speed of service and  unbeatable price',\n",
       " 'All good',\n",
       " 'Best price, easy comms and seem an established company.',\n",
       " \"Great customer service, you speak to someone in the UK, who understand your requirements and don't wait an age to get through. Sorted my change of policy first time with no issues. 5*****\",\n",
       " 'Great value for money',\n",
       " 'All the above',\n",
       " 'Ease of purchase',\n",
       " 'Competitive insurance rates.',\n",
       " 'Good value for what looks like wide range of cover.',\n",
       " 'Easy to purchase from your site. Very user friendly and no fuss',\n",
       " 'Excellent company, and price was equally excellent.',\n",
       " 'Cheapest quote I have found for this year.',\n",
       " 'Good priceAnswered phone quickly',\n",
       " 'The sales staff were extremely helpful, friendly and efficient. I had my car insurance sorted out in minutes.',\n",
       " 'Good price',\n",
       " 'All went well online']"
      ]
     },
     "execution_count": 61,
     "metadata": {},
     "output_type": "execute_result"
    }
   ],
   "source": [
    "flattened  = [val for sublist in records for val in sublist]\n",
    "flattened # flattened the result to remove inside brackets"
   ]
  },
  {
   "cell_type": "code",
   "execution_count": 62,
   "metadata": {},
   "outputs": [
    {
     "data": {
      "text/plain": [
       "['Reviewer left no comment',\n",
       " 'Reviewer left no comment',\n",
       " 'Nothing',\n",
       " 'Reviewer left no comment',\n",
       " 'Reviewer left no comment',\n",
       " 'No bad points',\n",
       " \"Nothing bad, you'll prob have to wait half an hour or so for email conformation of when taking out insurance. Not made a claim so can't comment on that.\",\n",
       " 'Nothing',\n",
       " 'Reviewer left no comment',\n",
       " 'No',\n",
       " 'None',\n",
       " 'Reviewer left no comment',\n",
       " 'The online dialogue was repetitive and inconsistent in parts.',\n",
       " 'The price could have been lower.',\n",
       " 'Reviewer left no comment',\n",
       " 'Could be even cheaper',\n",
       " 'I selected out of auto renew but paperwork said I was on this scheme',\n",
       " 'Reviewer left no comment',\n",
       " 'No free holiday',\n",
       " 'Reviewer left no comment']"
      ]
     },
     "execution_count": 62,
     "metadata": {},
     "output_type": "execute_result"
    }
   ],
   "source": [
    "flattened1 = [val for sublist in records1 for val in sublist]\n",
    "flattened1"
   ]
  },
  {
   "cell_type": "code",
   "execution_count": 63,
   "metadata": {
    "collapsed": true
   },
   "outputs": [],
   "source": [
    "# store the result as text file"
   ]
  },
  {
   "cell_type": "code",
   "execution_count": 64,
   "metadata": {
    "collapsed": true
   },
   "outputs": [],
   "source": [
    "with open('positive1.txt', 'w') as f:\n",
    "    for record in flattened:\n",
    "        f.write(record)\n",
    "        f.write('\\n')"
   ]
  },
  {
   "cell_type": "code",
   "execution_count": 65,
   "metadata": {
    "collapsed": true
   },
   "outputs": [],
   "source": [
    "with open('negative1.txt', 'w') as f:\n",
    "    for record in flattened1:\n",
    "        f.write(record)\n",
    "        f.write('\\n')"
   ]
  },
  {
   "cell_type": "code",
   "execution_count": 66,
   "metadata": {
    "collapsed": true
   },
   "outputs": [],
   "source": [
    "# I noticed that if I will take this approach it will take me ages to scrap the data and I will produce hundreds of txt files in one place. \n",
    "# I have decided to ask my friend for help and with her help we have constructed iteration loop to scrap the data pragmatically"
   ]
  },
  {
   "cell_type": "code",
   "execution_count": null,
   "metadata": {
    "collapsed": true
   },
   "outputs": [],
   "source": [
    "import requests\n",
    "from bs4 import BeautifulSoup\n",
    "import csv\n",
    "\n",
    "for x in range(1,4766):\n",
    "    rows = []\n",
    "    i = str(x)\n",
    "    r = requests.get(\"https://mark.reevoo.com/reevoomark/embeddable_reviews?ajax=true&amp;locale=en-GB&amp;page=\"+i+\"&amp;per_page=20&amp;sku=CINSTY&amp;trkref=LV-GI#\")\n",
    "    if r.status_code == 200:\n",
    "        soup = BeautifulSoup(r.text, \"html.parser\")\n",
    "        reviewsTags = soup.find_all(\"article\", \"review other-language reevoo_review comment good_bad_points\")\n",
    "    r.close()\n",
    "    for review in reviewsTags:\n",
    "        overall_score = review.find(\"span\",\"overall_score\").text.strip().encode(\"utf-8\")\n",
    "        reviewer_name = review.find(\"h4\",\"attribution-name\").text.strip().encode(\"utf-8\")\n",
    "        reviewer_locationSpan = review.find(\"h5\", \"attribution-details\").find(\"span\",class_=\"location\")\n",
    "        if reviewer_locationSpan is None:\n",
    "            reviewer_location = ' '\n",
    "        else :\n",
    "            reviewer_location = reviewer_locationSpan.text.strip().encode(\"utf-8\")\n",
    "        reviewer_pros = review.find(\"dd\",\"pros\").text.strip().encode(\"utf-8\")\n",
    "        reviewer_cons = review.find(\"dd\",\"cons\").text.strip().encode(\"utf-8\")\n",
    "        reviewer_scores = review.find(\"table\",\"scores\").find_all(\"tr\")\n",
    "        ease_of_purchase_score = ''\n",
    "        value_for_money_score = ''\n",
    "        overall_rating_score = ''\n",
    "        for tr in reviewer_scores:\n",
    "            title = tr.find(\"th\").text.strip().encode(\"utf-8\")\n",
    "            score = tr.find(\"span\",\"facet-bar\").text.strip().encode(\"utf-8\")\n",
    "            if title == 'Ease of purchase':\n",
    "                ease_of_purchase_score = score\n",
    "            if title == 'Value for money':\n",
    "                value_for_money_score = score\n",
    "            if title == 'Overall rating':\n",
    "                overall_rating_score = score\n",
    "        review_date_purchase = review.find(\"span\", \"date date_purchase\").text.strip().encode(\"utf-8\")\n",
    "        review_date_publish = review.find(\"span\", \"date date_publish\").text.strip().encode(\"utf-8\")\n",
    "\n",
    "        # create the required format before inserting to file:\n",
    "        row = [review_date_purchase,review_date_publish,reviewer_name,reviewer_location,reviewer_pros,reviewer_cons,overall_score,ease_of_purchase_score,value_for_money_score,overall_rating_score,'\\n']\n",
    "        rows.extend(row)\n",
    "    print('page {} completed'.format(i))\n",
    "\n",
    "    with open(\"result1.csv\",\"a\") as f:\n",
    "        writer = csv.writer(f)\n",
    "        writer.writerow(rows)"
   ]
  },
  {
   "cell_type": "code",
   "execution_count": 67,
   "metadata": {
    "collapsed": true
   },
   "outputs": [],
   "source": [
    "# The generated file was in csv file but with many repeated columns. \n",
    "# Using package dplyr in R I have merged the columns together in one file and took only the part of the data that I am interested in:\n",
    "# Last year"
   ]
  },
  {
   "cell_type": "code",
   "execution_count": null,
   "metadata": {
    "collapsed": true
   },
   "outputs": [],
   "source": []
  },
  {
   "cell_type": "code",
   "execution_count": 68,
   "metadata": {
    "collapsed": true
   },
   "outputs": [],
   "source": [
    "# Step 2: 2.Identify common strengths and pain points expressed by the customers."
   ]
  },
  {
   "cell_type": "code",
   "execution_count": 69,
   "metadata": {
    "collapsed": true
   },
   "outputs": [],
   "source": [
    "# The next step was to put the data into list and remove all unwanted repeated phrases such as: \"No response\""
   ]
  },
  {
   "cell_type": "code",
   "execution_count": 70,
   "metadata": {
    "collapsed": true
   },
   "outputs": [],
   "source": [
    "import pandas as pd"
   ]
  },
  {
   "cell_type": "code",
   "execution_count": 71,
   "metadata": {
    "collapsed": true
   },
   "outputs": [],
   "source": [
    "df = pd.read_csv(\"Scrapped.csv\")"
   ]
  },
  {
   "cell_type": "code",
   "execution_count": 72,
   "metadata": {},
   "outputs": [
    {
     "data": {
      "text/html": [
       "<div>\n",
       "<style>\n",
       "    .dataframe thead tr:only-child th {\n",
       "        text-align: right;\n",
       "    }\n",
       "\n",
       "    .dataframe thead th {\n",
       "        text-align: left;\n",
       "    }\n",
       "\n",
       "    .dataframe tbody tr th {\n",
       "        vertical-align: top;\n",
       "    }\n",
       "</style>\n",
       "<table border=\"1\" class=\"dataframe\">\n",
       "  <thead>\n",
       "    <tr style=\"text-align: right;\">\n",
       "      <th></th>\n",
       "      <th>Date1</th>\n",
       "      <th>Date2</th>\n",
       "      <th>Who</th>\n",
       "      <th>Where</th>\n",
       "      <th>Positive</th>\n",
       "      <th>Negative</th>\n",
       "      <th>Score</th>\n",
       "    </tr>\n",
       "  </thead>\n",
       "  <tbody>\n",
       "    <tr>\n",
       "      <th>0</th>\n",
       "      <td>14/04/2018</td>\n",
       "      <td>24-Apr-18</td>\n",
       "      <td>Marie</td>\n",
       "      <td>Grantham</td>\n",
       "      <td>Was so easy</td>\n",
       "      <td>I have not got any at the min</td>\n",
       "      <td>9 out of 10</td>\n",
       "    </tr>\n",
       "    <tr>\n",
       "      <th>1</th>\n",
       "      <td>14/04/2018</td>\n",
       "      <td>17-Apr-18</td>\n",
       "      <td>Michael</td>\n",
       "      <td>hemel hempstead</td>\n",
       "      <td>Very easy to use website. Very clear informati...</td>\n",
       "      <td>Reviewer left no comment</td>\n",
       "      <td>10 out of 10</td>\n",
       "    </tr>\n",
       "    <tr>\n",
       "      <th>2</th>\n",
       "      <td>14/04/2018</td>\n",
       "      <td>16-Apr-18</td>\n",
       "      <td>Jason</td>\n",
       "      <td>Preston</td>\n",
       "      <td>Easy to follow instructions and peace of mind ...</td>\n",
       "      <td>Can't think of any at this time</td>\n",
       "      <td>10 out of 10</td>\n",
       "    </tr>\n",
       "    <tr>\n",
       "      <th>3</th>\n",
       "      <td>14/04/2018</td>\n",
       "      <td>16-Apr-18</td>\n",
       "      <td>Steven</td>\n",
       "      <td>Lincoln</td>\n",
       "      <td>Value</td>\n",
       "      <td>Nothing</td>\n",
       "      <td>9 out of 10</td>\n",
       "    </tr>\n",
       "    <tr>\n",
       "      <th>4</th>\n",
       "      <td>13/04/2018</td>\n",
       "      <td>21-Apr-18</td>\n",
       "      <td>Neil</td>\n",
       "      <td>Rode Heath</td>\n",
       "      <td>Friendly and efficient staff at the call centr...</td>\n",
       "      <td>Reviewer left no comment</td>\n",
       "      <td>10 out of 10</td>\n",
       "    </tr>\n",
       "  </tbody>\n",
       "</table>\n",
       "</div>"
      ],
      "text/plain": [
       "        Date1      Date2      Who            Where  \\\n",
       "0  14/04/2018  24-Apr-18    Marie         Grantham   \n",
       "1  14/04/2018  17-Apr-18  Michael  hemel hempstead   \n",
       "2  14/04/2018  16-Apr-18    Jason          Preston   \n",
       "3  14/04/2018  16-Apr-18   Steven          Lincoln   \n",
       "4  13/04/2018  21-Apr-18     Neil       Rode Heath   \n",
       "\n",
       "                                            Positive  \\\n",
       "0                                        Was so easy   \n",
       "1  Very easy to use website. Very clear informati...   \n",
       "2  Easy to follow instructions and peace of mind ...   \n",
       "3                                              Value   \n",
       "4  Friendly and efficient staff at the call centr...   \n",
       "\n",
       "                          Negative         Score  \n",
       "0    I have not got any at the min   9 out of 10  \n",
       "1         Reviewer left no comment  10 out of 10  \n",
       "2  Can't think of any at this time  10 out of 10  \n",
       "3                          Nothing   9 out of 10  \n",
       "4         Reviewer left no comment  10 out of 10  "
      ]
     },
     "execution_count": 72,
     "metadata": {},
     "output_type": "execute_result"
    }
   ],
   "source": [
    "df.head()"
   ]
  },
  {
   "cell_type": "code",
   "execution_count": 73,
   "metadata": {
    "collapsed": true
   },
   "outputs": [],
   "source": [
    "pos_neg = df[['Positive', 'Negative']]"
   ]
  },
  {
   "cell_type": "code",
   "execution_count": 74,
   "metadata": {},
   "outputs": [
    {
     "data": {
      "text/html": [
       "<div>\n",
       "<style>\n",
       "    .dataframe thead tr:only-child th {\n",
       "        text-align: right;\n",
       "    }\n",
       "\n",
       "    .dataframe thead th {\n",
       "        text-align: left;\n",
       "    }\n",
       "\n",
       "    .dataframe tbody tr th {\n",
       "        vertical-align: top;\n",
       "    }\n",
       "</style>\n",
       "<table border=\"1\" class=\"dataframe\">\n",
       "  <thead>\n",
       "    <tr style=\"text-align: right;\">\n",
       "      <th></th>\n",
       "      <th>Positive</th>\n",
       "      <th>Negative</th>\n",
       "    </tr>\n",
       "  </thead>\n",
       "  <tbody>\n",
       "    <tr>\n",
       "      <th>0</th>\n",
       "      <td>Was so easy</td>\n",
       "      <td>I have not got any at the min</td>\n",
       "    </tr>\n",
       "    <tr>\n",
       "      <th>1</th>\n",
       "      <td>Very easy to use website. Very clear informati...</td>\n",
       "      <td>Reviewer left no comment</td>\n",
       "    </tr>\n",
       "    <tr>\n",
       "      <th>2</th>\n",
       "      <td>Easy to follow instructions and peace of mind ...</td>\n",
       "      <td>Can't think of any at this time</td>\n",
       "    </tr>\n",
       "    <tr>\n",
       "      <th>3</th>\n",
       "      <td>Value</td>\n",
       "      <td>Nothing</td>\n",
       "    </tr>\n",
       "    <tr>\n",
       "      <th>4</th>\n",
       "      <td>Friendly and efficient staff at the call centr...</td>\n",
       "      <td>Reviewer left no comment</td>\n",
       "    </tr>\n",
       "  </tbody>\n",
       "</table>\n",
       "</div>"
      ],
      "text/plain": [
       "                                            Positive  \\\n",
       "0                                        Was so easy   \n",
       "1  Very easy to use website. Very clear informati...   \n",
       "2  Easy to follow instructions and peace of mind ...   \n",
       "3                                              Value   \n",
       "4  Friendly and efficient staff at the call centr...   \n",
       "\n",
       "                          Negative  \n",
       "0    I have not got any at the min  \n",
       "1         Reviewer left no comment  \n",
       "2  Can't think of any at this time  \n",
       "3                          Nothing  \n",
       "4         Reviewer left no comment  "
      ]
     },
     "execution_count": 74,
     "metadata": {},
     "output_type": "execute_result"
    }
   ],
   "source": [
    "pos_neg.head()"
   ]
  },
  {
   "cell_type": "code",
   "execution_count": 75,
   "metadata": {
    "collapsed": true
   },
   "outputs": [],
   "source": [
    "# Remove the elements of row 'Negative' and store in the list"
   ]
  },
  {
   "cell_type": "code",
   "execution_count": 76,
   "metadata": {
    "collapsed": true
   },
   "outputs": [],
   "source": [
    "negative = []\n",
    "\n",
    "for i in range(len(df)):\n",
    "    negative.append(df['Negative'][i])"
   ]
  },
  {
   "cell_type": "code",
   "execution_count": 77,
   "metadata": {},
   "outputs": [
    {
     "data": {
      "text/plain": [
       "['I have not got any at the min',\n",
       " 'Reviewer left no comment',\n",
       " \"Can't think of any at this time\",\n",
       " 'Nothing',\n",
       " 'Reviewer left no comment',\n",
       " 'so far nothing but insurance only starts 1st May 2018',\n",
       " 'Reviewer left no comment',\n",
       " 'Reviewer left no comment',\n",
       " 'no email from to confirm my car insurance with you',\n",
       " \"I don't know yet. Ask me when I come to renew.\",\n",
       " 'Reviewer left no comment',\n",
       " 'no bad points',\n",
       " \"not the cheapest for all the add on components but wanted stick with a company i'd heard of\",\n",
       " 'Not at moment',\n",
       " 'Web site kept going round in circles so took longer than it need have done',\n",
       " 'Reviewer left no comment',\n",
       " 'Dearer Window excess \\\\xc2\\\\xa390 , most are \\\\xc2\\\\xa375.',\n",
       " 'Standard cover could include a few additional extras, but appreciate this would inflate the base price.',\n",
       " 'Reviewer left no comment',\n",
       " 'Expensive, despite 10years plus on company, as an additional driver on another insurance, none of all of these years accident free matter! And they should! It\\\\xe2\\\\x80\\\\x99s time NCB was acknowledged, when earned on non-main driver policies!']"
      ]
     },
     "execution_count": 77,
     "metadata": {},
     "output_type": "execute_result"
    }
   ],
   "source": [
    "negative[0:20]"
   ]
  },
  {
   "cell_type": "code",
   "execution_count": 78,
   "metadata": {
    "collapsed": true
   },
   "outputs": [],
   "source": [
    "# Look for common phrases as the most popular one are usually the least important"
   ]
  },
  {
   "cell_type": "code",
   "execution_count": 79,
   "metadata": {},
   "outputs": [
    {
     "data": {
      "text/plain": [
       "Reviewer left no comment    4486\n",
       "None                         954\n",
       "No                           754\n",
       "Nothing                      405\n",
       "no                           151\n",
       "none                         127\n",
       "No bad points                 85\n",
       "No.                           73\n",
       "None.                         59\n",
       "Nothing.                      54\n",
       "nothing                       52\n",
       "Not really                    38\n",
       "Nope                          31\n",
       "None so far                   25\n",
       "Nothing so far                24\n",
       "Nil                           24\n",
       "NO                            21\n",
       "N/a                           21\n",
       "Nothing yet                   19\n",
       "No bad points.                19\n",
       "Non                           18\n",
       "Nothing really                16\n",
       "Not yet                       16\n",
       "Not so far                    15\n",
       "no bad points                 15\n",
       "None yet                      14\n",
       "Nothing bad                   12\n",
       "Not really.                   12\n",
       "All good                      12\n",
       "None so far.                  12\n",
       "dtype: int64"
      ]
     },
     "execution_count": 79,
     "metadata": {},
     "output_type": "execute_result"
    }
   ],
   "source": [
    "my_count = pd.Series(negative).value_counts()\n",
    "my_count[0:30]"
   ]
  },
  {
   "cell_type": "code",
   "execution_count": 80,
   "metadata": {
    "collapsed": true
   },
   "outputs": [],
   "source": [
    "# Remove quickly not important phrases"
   ]
  },
  {
   "cell_type": "code",
   "execution_count": 81,
   "metadata": {
    "collapsed": true
   },
   "outputs": [],
   "source": [
    "sentences = ['Reviewer left no comment',\n",
    "             'None.',\n",
    "             'No ',\n",
    "             'Nothing ',\n",
    "             'no',\n",
    "             'none',\n",
    "             'No bad points',\n",
    "             'No.',\n",
    "             'None.',\n",
    "             'Nothing.',\n",
    "             'Not really ',\n",
    "             'Nope'\n",
    "             'None so far',\n",
    "             'Nothing so far',\n",
    "             'Nil',\n",
    "             'NO',\n",
    "             'N/a',\n",
    "             'Nothing yet',\n",
    "             'No bad points.',\n",
    "             'Non',\n",
    "             'Nothing really,'\n",
    "            'None yet',\n",
    "            'Nothing bad',\n",
    "            'Not really.',\n",
    "            'All good',\n",
    "            'None so far.']\n",
    "\n",
    "for sentence in sentences:\n",
    "    while sentence in negative:\n",
    "        negative.remove(sentence)"
   ]
  },
  {
   "cell_type": "code",
   "execution_count": 82,
   "metadata": {},
   "outputs": [
    {
     "data": {
      "text/plain": [
       "['I have not got any at the min',\n",
       " \"Can't think of any at this time\",\n",
       " 'Nothing',\n",
       " 'so far nothing but insurance only starts 1st May 2018',\n",
       " 'no email from to confirm my car insurance with you',\n",
       " \"I don't know yet. Ask me when I come to renew.\",\n",
       " 'no bad points',\n",
       " \"not the cheapest for all the add on components but wanted stick with a company i'd heard of\",\n",
       " 'Not at moment',\n",
       " 'Web site kept going round in circles so took longer than it need have done',\n",
       " 'Dearer Window excess \\\\xc2\\\\xa390 , most are \\\\xc2\\\\xa375.',\n",
       " 'Standard cover could include a few additional extras, but appreciate this would inflate the base price.',\n",
       " 'Expensive, despite 10years plus on company, as an additional driver on another insurance, none of all of these years accident free matter! And they should! It\\\\xe2\\\\x80\\\\x99s time NCB was acknowledged, when earned on non-main driver policies!',\n",
       " 'Each year you send me an automatic renewal. Each year I check on your website. Each year, it is cheaper to renew on line than through your automatic renewal.Why do you treat your existing customers so badly?',\n",
       " 'None',\n",
       " 'I have to go online to get the best price as the renewal is always more expensive when arrives in the post.',\n",
       " 'None that I can think of',\n",
       " 'Think breakdown cover should have been including',\n",
       " 'Nothing',\n",
       " \"It's a bit confusing having 2 cars with 1 policy holder but it all works as it should as far as building no claims etc is concerned.\"]"
      ]
     },
     "execution_count": 82,
     "metadata": {},
     "output_type": "execute_result"
    }
   ],
   "source": [
    "negative[0:20]"
   ]
  },
  {
   "cell_type": "code",
   "execution_count": 83,
   "metadata": {},
   "outputs": [
    {
     "data": {
      "text/plain": [
       "7143"
      ]
     },
     "execution_count": 83,
     "metadata": {},
     "output_type": "execute_result"
    }
   ],
   "source": [
    "len(negative)"
   ]
  },
  {
   "cell_type": "code",
   "execution_count": 84,
   "metadata": {
    "collapsed": true
   },
   "outputs": [],
   "source": [
    "thefile = open('negative.txt', 'w')\n",
    "for item in negative:\n",
    "  thefile.write(\"%s\\n\" % item)\n",
    "thefile.close()"
   ]
  },
  {
   "cell_type": "code",
   "execution_count": 86,
   "metadata": {
    "collapsed": true
   },
   "outputs": [],
   "source": [
    "with open('negative.txt') as negative:\n",
    "    negative = negative.read()"
   ]
  },
  {
   "cell_type": "code",
   "execution_count": 88,
   "metadata": {
    "collapsed": true
   },
   "outputs": [],
   "source": [
    "# Count the total number of words in the file"
   ]
  },
  {
   "cell_type": "code",
   "execution_count": 89,
   "metadata": {},
   "outputs": [
    {
     "name": "stdout",
     "output_type": "stream",
     "text": [
      "Total number of tokens: 79284\n"
     ]
    }
   ],
   "source": [
    "from nltk.tokenize import word_tokenize\n",
    "\n",
    "try:  # py3\n",
    "    all_tokens = [t for t in word_tokenize(negative)]\n",
    "except UnicodeDecodeError:  # py27\n",
    "    all_tokens = [t for t in word_tokenize(corpus_all_in_one.decode('utf-8'))]\n",
    "\n",
    "print(\"Total number of tokens: {}\".format(len(all_tokens)))"
   ]
  },
  {
   "cell_type": "code",
   "execution_count": 90,
   "metadata": {
    "collapsed": true
   },
   "outputs": [],
   "source": [
    "# show the most frequent tokens including punctuation marks. "
   ]
  },
  {
   "cell_type": "code",
   "execution_count": 91,
   "metadata": {},
   "outputs": [
    {
     "name": "stdout",
     "output_type": "stream",
     "text": [
      ".\t2944\n",
      "to\t2866\n",
      "the\t2410\n",
      "I\t1926\n",
      "a\t1594\n",
      "None\t1182\n",
      "No\t1092\n",
      ",\t1043\n",
      "and\t1015\n",
      "was\t957\n",
      "not\t839\n",
      "of\t834\n",
      "for\t834\n",
      "on\t762\n",
      "Nothing\t726\n",
      "my\t721\n",
      "it\t696\n",
      "have\t676\n",
      "!\t665\n",
      "with\t587\n"
     ]
    }
   ],
   "source": [
    "from collections import Counter\n",
    "\n",
    "total_term_frequency = Counter(all_tokens)\n",
    "\n",
    "for word, freq in total_term_frequency.most_common(20):\n",
    "    print(\"{}\\t{}\".format(word, freq))"
   ]
  },
  {
   "cell_type": "code",
   "execution_count": 92,
   "metadata": {
    "collapsed": true
   },
   "outputs": [],
   "source": [
    "# We don't need the punctuation marks or stopwords so we want to remove them from the file. "
   ]
  },
  {
   "cell_type": "code",
   "execution_count": 93,
   "metadata": {},
   "outputs": [
    {
     "name": "stdout",
     "output_type": "stream",
     "text": [
      "['i', 'me', 'my', 'myself', 'we', 'our', 'ours', 'ourselves', 'you', \"you're\", \"you've\", \"you'll\", \"you'd\", 'your', 'yours', 'yourself', 'yourselves', 'he', 'him', 'his', 'himself', 'she', \"she's\", 'her', 'hers', 'herself', 'it', \"it's\", 'its', 'itself', 'they', 'them', 'their', 'theirs', 'themselves', 'what', 'which', 'who', 'whom', 'this', 'that', \"that'll\", 'these', 'those', 'am', 'is', 'are', 'was', 'were', 'be', 'been', 'being', 'have', 'has', 'had', 'having', 'do', 'does', 'did', 'doing', 'a', 'an', 'the', 'and', 'but', 'if', 'or', 'because', 'as', 'until', 'while', 'of', 'at', 'by', 'for', 'with', 'about', 'against', 'between', 'into', 'through', 'during', 'before', 'after', 'above', 'below', 'to', 'from', 'up', 'down', 'in', 'out', 'on', 'off', 'over', 'under', 'again', 'further', 'then', 'once', 'here', 'there', 'when', 'where', 'why', 'how', 'all', 'any', 'both', 'each', 'few', 'more', 'most', 'other', 'some', 'such', 'no', 'nor', 'not', 'only', 'own', 'same', 'so', 'than', 'too', 'very', 's', 't', 'can', 'will', 'just', 'don', \"don't\", 'should', \"should've\", 'now', 'd', 'll', 'm', 'o', 're', 've', 'y', 'ain', 'aren', \"aren't\", 'couldn', \"couldn't\", 'didn', \"didn't\", 'doesn', \"doesn't\", 'hadn', \"hadn't\", 'hasn', \"hasn't\", 'haven', \"haven't\", 'isn', \"isn't\", 'ma', 'mightn', \"mightn't\", 'mustn', \"mustn't\", 'needn', \"needn't\", 'shan', \"shan't\", 'shouldn', \"shouldn't\", 'wasn', \"wasn't\", 'weren', \"weren't\", 'won', \"won't\", 'wouldn', \"wouldn't\"]\n",
      "179\n",
      "!\"#$%&'()*+,-./:;<=>?@[\\]^_`{|}~\n"
     ]
    }
   ],
   "source": [
    "from nltk.corpus import stopwords\n",
    "import string\n",
    "\n",
    "print(stopwords.words('english'))\n",
    "print(len(stopwords.words('english')))\n",
    "print(string.punctuation)"
   ]
  },
  {
   "cell_type": "code",
   "execution_count": 94,
   "metadata": {
    "collapsed": true
   },
   "outputs": [],
   "source": [
    "# Checking the most frequent words points to the problem with price"
   ]
  },
  {
   "cell_type": "code",
   "execution_count": 95,
   "metadata": {},
   "outputs": [
    {
     "name": "stdout",
     "output_type": "stream",
     "text": [
      "I\t1926\n",
      "None\t1182\n",
      "No\t1092\n",
      "Nothing\t726\n",
      "quote\t526\n",
      "insurance\t522\n",
      "n't\t520\n",
      "price\t505\n",
      "renewal\t459\n",
      "policy\t443\n",
      "LV\t438\n",
      "car\t371\n",
      "Not\t315\n",
      "online\t310\n",
      "get\t308\n",
      "yet\t297\n",
      "could\t275\n",
      "The\t268\n",
      "would\t260\n",
      "cheaper\t258\n"
     ]
    }
   ],
   "source": [
    "for content in negative:\n",
    "    tokens = word_tokenize(content)\n",
    "    \n",
    "stop_list = stopwords.words('english') + list(string.punctuation)\n",
    "\n",
    "tokens_no_stop = [token for token in all_tokens\n",
    "                        if token not in stop_list]\n",
    "\n",
    "total_term_frequency_no_stop = Counter(tokens_no_stop)\n",
    "\n",
    "for word, freq in total_term_frequency_no_stop.most_common(20):\n",
    "    print(\"{}\\t{}\".format(word, freq))"
   ]
  },
  {
   "cell_type": "code",
   "execution_count": 96,
   "metadata": {
    "collapsed": true
   },
   "outputs": [],
   "source": [
    "# but different spelling of the same word can result with counting frequency multiple time"
   ]
  },
  {
   "cell_type": "code",
   "execution_count": 97,
   "metadata": {},
   "outputs": [
    {
     "name": "stdout",
     "output_type": "stream",
     "text": [
      "0\n",
      "1092\n",
      "34\n",
      "10\n"
     ]
    }
   ],
   "source": [
    "print(total_term_frequency_no_stop['no'])\n",
    "print(total_term_frequency_no_stop['No'])\n",
    "print(total_term_frequency_no_stop['none'])\n",
    "print(total_term_frequency_no_stop['nope'])"
   ]
  },
  {
   "cell_type": "code",
   "execution_count": 98,
   "metadata": {
    "collapsed": true
   },
   "outputs": [],
   "source": [
    "# Using steamer that takes the last bits of words and using lower case to all words results in limiting the problem mentioned above"
   ]
  },
  {
   "cell_type": "code",
   "execution_count": 99,
   "metadata": {},
   "outputs": [
    {
     "name": "stdout",
     "output_type": "stream",
     "text": [
      "none\t1225\n",
      "noth\t886\n",
      "insur\t693\n",
      "renew\t666\n",
      "quot\t654\n",
      "price\t630\n",
      "n't\t521\n",
      "polici\t499\n",
      "lv\t478\n",
      "car\t422\n",
      "year\t372\n",
      "get\t354\n",
      "could\t348\n",
      "onlin\t323\n",
      "custom\t319\n",
      "would\t311\n",
      "yet\t302\n",
      "cheaper\t268\n",
      "cover\t266\n",
      "claim\t252\n"
     ]
    }
   ],
   "source": [
    "from nltk.stem import PorterStemmer\n",
    "\n",
    "stemmer = PorterStemmer()\n",
    "all_tokens_lower = [t.lower() for t in all_tokens]\n",
    "\n",
    "tokens_normalised = [stemmer.stem(t) for t in all_tokens_lower\n",
    "                                     if t not in stop_list]\n",
    "\n",
    "total_term_frequency_normalised = Counter(tokens_normalised)\n",
    "\n",
    "for word, freq in total_term_frequency_normalised.most_common(20):\n",
    "    print(\"{}\\t{}\".format(word, freq))"
   ]
  },
  {
   "cell_type": "code",
   "execution_count": 100,
   "metadata": {
    "collapsed": true
   },
   "outputs": [],
   "source": [
    "# We are more interested with frazes rather than words"
   ]
  },
  {
   "cell_type": "code",
   "execution_count": 101,
   "metadata": {},
   "outputs": [
    {
     "name": "stdout",
     "output_type": "stream",
     "text": [
      "('have', 'to', 'make', 'a', 'claim')\t21\n",
      "('ca', \"n't\", 'think', 'of', 'anything')\t21\n",
      "('that', 'i', 'can', 'think', 'of')\t18\n",
      "('?', '?', '?', '?', '?')\t18\n",
      "('ca', \"n't\", 'think', 'of', 'any')\t16\n",
      "('!', '!', '!', '!', '!')\t16\n",
      "('to', 'make', 'a', 'claim', '.')\t14\n",
      "('none', 'that', 'i', 'can', 'think')\t13\n",
      "('to', 'get', 'a', 'better', 'price')\t13\n",
      "('nothing', 'i', 'can', 'think', 'of')\t13\n",
      "('take', 'out', 'a', 'new', 'policy')\t12\n",
      "('i', 'have', 'to', 'make', 'a')\t11\n",
      "('i', 'can', 'think', 'of', '.')\t10\n",
      "('had', 'to', 'make', 'a', 'claim')\t9\n",
      "('to', 'get', 'a', 'better', 'deal')\t8\n",
      "('to', 'take', 'out', 'a', 'new')\t8\n",
      "('no', 'bad', 'points', 'at', 'all')\t8\n",
      "('to', 'go', 'on', 'line', 'to')\t7\n",
      "('go', 'on', 'line', 'to', 'get')\t7\n",
      "('i', 'had', 'to', 'cancel', 'my')\t7\n"
     ]
    }
   ],
   "source": [
    "from nltk import ngrams\n",
    "\n",
    "phrases = Counter(ngrams(all_tokens_lower, 5))\n",
    "for phrase, freq in phrases.most_common(20):\n",
    "    print(\"{}\\t{}\".format(phrase, freq))"
   ]
  },
  {
   "cell_type": "code",
   "execution_count": 102,
   "metadata": {
    "collapsed": true
   },
   "outputs": [],
   "source": [
    "# There is many comments that they don't see bad sides of the product which is good.\n",
    "# Comments that mention problems are: \n",
    "# there shouold be cheaper renewal quote\n",
    "# it took a bit of time to send insurance documents\n",
    "# No monthly payment option\n",
    "# Too many add ons\n",
    "# better price elsewhere"
   ]
  },
  {
   "cell_type": "code",
   "execution_count": 103,
   "metadata": {},
   "outputs": [
    {
     "name": "stdout",
     "output_type": "stream",
     "text": [
      "('Ca', \"n't\", 'think', 'anything', 'None')\t3\n",
      "('No', 'bad', 'points', 'I', 'think')\t3\n",
      "('None', 'Ca', \"n't\", 'think', 'anything')\t3\n",
      "('go', 'line', 'get', 'better', 'deal')\t3\n",
      "('I', 'still', \"n't\", 'sent', 'policy')\t2\n",
      "('still', \"n't\", 'sent', 'policy', 'documents')\t2\n",
      "(\"n't\", 'sent', 'policy', 'documents', '5')\t2\n",
      "('sent', 'policy', 'documents', '5', 'days')\t2\n",
      "('policy', 'documents', '5', 'days', 'since')\t2\n",
      "('documents', '5', 'days', 'since', 'policy')\t2\n",
      "('5', 'days', 'since', 'policy', 'started')\t2\n",
      "('days', 'since', 'policy', 'started', 'I')\t2\n",
      "('since', 'policy', 'started', 'I', \"n't\")\t2\n",
      "('policy', 'started', 'I', \"n't\", 'even')\t2\n",
      "('started', 'I', \"n't\", 'even', 'receive')\t2\n",
      "('I', \"n't\", 'even', 'receive', 'confirmation')\t2\n",
      "(\"n't\", 'even', 'receive', 'confirmation', 'email')\t2\n",
      "('even', 'receive', 'confirmation', 'email', 'stating')\t2\n",
      "('receive', 'confirmation', 'email', 'stating', 'I')\t2\n",
      "('confirmation', 'email', 'stating', 'I', 'taken')\t2\n"
     ]
    }
   ],
   "source": [
    "phrases = Counter(ngrams(tokens_no_stop, 5))\n",
    "\n",
    "for phrase, freq in phrases.most_common(20):\n",
    "    print(\"{}\\t{}\".format(phrase, freq))"
   ]
  },
  {
   "cell_type": "code",
   "execution_count": 104,
   "metadata": {
    "collapsed": true
   },
   "outputs": [],
   "source": [
    "# I had to repeat the same procedure for the positive feedback to compare"
   ]
  },
  {
   "cell_type": "code",
   "execution_count": 105,
   "metadata": {
    "collapsed": true
   },
   "outputs": [],
   "source": [
    "positive = []\n",
    "\n",
    "for i in range(len(df)):\n",
    "    positive.append(df['Positive'][i])"
   ]
  },
  {
   "cell_type": "code",
   "execution_count": 1,
   "metadata": {},
   "outputs": [
    {
     "ename": "NameError",
     "evalue": "name 'positive' is not defined",
     "output_type": "error",
     "traceback": [
      "\u001b[1;31m---------------------------------------------------------------------------\u001b[0m",
      "\u001b[1;31mNameError\u001b[0m                                 Traceback (most recent call last)",
      "\u001b[1;32m<ipython-input-1-55134b9ea6aa>\u001b[0m in \u001b[0;36m<module>\u001b[1;34m()\u001b[0m\n\u001b[1;32m----> 1\u001b[1;33m \u001b[0mpositive\u001b[0m\u001b[1;33m[\u001b[0m\u001b[1;36m0\u001b[0m\u001b[1;33m:\u001b[0m\u001b[1;36m20\u001b[0m\u001b[1;33m]\u001b[0m\u001b[1;33m\u001b[0m\u001b[0m\n\u001b[0m",
      "\u001b[1;31mNameError\u001b[0m: name 'positive' is not defined"
     ]
    }
   ],
   "source": [
    "positive[0:20]"
   ]
  },
  {
   "cell_type": "code",
   "execution_count": 107,
   "metadata": {},
   "outputs": [
    {
     "data": {
      "text/plain": [
       "Reviewer left no comment                                                                                                                                                                                                                                 383\n",
       "Price                                                                                                                                                                                                                                                     91\n",
       "Quick and easy                                                                                                                                                                                                                                            60\n",
       "Easy to use website                                                                                                                                                                                                                                       52\n",
       "Good price                                                                                                                                                                                                                                                48\n",
       "Value for money                                                                                                                                                                                                                                           39\n",
       "Good value                                                                                                                                                                                                                                                34\n",
       "All good                                                                                                                                                                                                                                                  34\n",
       "The price                                                                                                                                                                                                                                                 32\n",
       "Easy to use                                                                                                                                                                                                                                               31\n",
       "Easy to purchase                                                                                                                                                                                                                                          25\n",
       "Easy                                                                                                                                                                                                                                                      24\n",
       "Ease of purchase                                                                                                                                                                                                                                          24\n",
       "Easy to do                                                                                                                                                                                                                                                24\n",
       "price                                                                                                                                                                                                                                                     24\n",
       "Ease of use                                                                                                                                                                                                                                               22\n",
       "Good value for money                                                                                                                                                                                                                                      21\n",
       "Easy to set up                                                                                                                                                                                                                                            18\n",
       "Everything                                                                                                                                                                                                                                                15\n",
       "Cheap                                                                                                                                                                                                                                                     14\n",
       "All                                                                                                                                                                                                                                                       14\n",
       "Great price                                                                                                                                                                                                                                               14\n",
       "Easy to use web site                                                                                                                                                                                                                                      14\n",
       "None                                                                                                                                                                                                                                                      14\n",
       "Best price                                                                                                                                                                                                                                                13\n",
       "Easy website                                                                                                                                                                                                                                              13\n",
       "Very easy                                                                                                                                                                                                                                                 12\n",
       "Competitive price                                                                                                                                                                                                                                         12\n",
       "Quick                                                                                                                                                                                                                                                     11\n",
       "Very competitive price                                                                                                                                                                                                                                    11\n",
       "                                                                                                                                                                                                                                                        ... \n",
       "Easy and good value                                                                                                                                                                                                                                        1\n",
       "Previous good experience with a claim and ease of form completion                                                                                                                                                                                          1\n",
       "Good advice                                                                                                                                                                                                                                                1\n",
       "Managed to get a lot cheaper on line price with breakdown included and was still cheaper than automatic renewal! The price shouldn\\xe2\\x80\\x99t be a lot difference especially as we hold our house and another car with LV insurance.                     1\n",
       "Competitive, Clear & Easy to navigate                                                                                                                                                                                                                      1\n",
       "what a good deal                                                                                                                                                                                                                                           1\n",
       "Took out a multi-car policy, saved \\xc2\\xa3100 on combined annual and process was very easy                                                                                                                                                                1\n",
       "Price was cheaper than my renewal                                                                                                                                                                                                                          1\n",
       "Very good value for money. I saved over \\xc2\\xa3120 compared with by renewal quote from Saga. Other Which Best Buy insurer's quotes were similar to Saga's.                                                                                                1\n",
       "Cheaper than everyone else yet still one of the best policies on offer                                                                                                                                                                                     1\n",
       "Very easy and quick to purchaseThe price was extremely competitive                                                                                                                                                                                         1\n",
       "Very easy and what a great deal!!!                                                                                                                                                                                                                         1\n",
       "Clarity                                                                                                                                                                                                                                                    1\n",
       "Easy to complete on line. On line chat assistance is very useful and helpful. Didn\\xe2\\x80\\x99t feel like the company was trying to rip me off or treat me as if I was stupid as I have experienced with other insurers and brokers over recent years      1\n",
       "Beat my existing insurer handsomely on price                                                                                                                                                                                                               1\n",
       "Easy to get a quote and add or subtract options. A fair price.                                                                                                                                                                                             1\n",
       "Good value with a multicar purchase - cheapest with a bigger company I found.Had to phone and excellent customer service without background call centre noise. Marie was extremely helpful and patient.                                                    1\n",
       "Renewed online which was very easy and I definitely loved the fact that I saved money                                                                                                                                                                      1\n",
       "Very easy and clear                                                                                                                                                                                                                                        1\n",
       "EUROPE  180 days cover at no extra cost                                                                                                                                                                                                                    1\n",
       "Good user interface for mobile phone.Good customer service when policy cover needed to be changed.Very good price.                                                                                                                                         1\n",
       "Took a break from LV for a cheaper quote. Returned to LV for a cheaper quote :) Easy to complete online via a comparison website.                                                                                                                          1\n",
       "The lady was listening and tried her best to convince me                                                                                                                                                                                                   1\n",
       "Cut \\xc2\\xa3140 from my existing insurers renewal quote.\\xf0\\x9f\\x98\\x8a\\xf0\\x9f\\x91\\x8d                                                                                                                                                                   1\n",
       "good on-line system                                                                                                                                                                                                                                        1\n",
       "very professional                                                                                                                                                                                                                                          1\n",
       "So easy for us silver surfers to understand and purchase.  Have already recommended LV to our neighbours and top my daughter and son.                                                                                                                      1\n",
       "The web site is so easy and quick to use and clear information given.                                                                                                                                                                                      1\n",
       "Used before & all quite straightforward... Best multicar quote & excess is lower than my renewal with Aviva too... Happy days!                                                                                                                             1\n",
       "Once you know how the website worksVery Straightforward                                                                                                                                                                                                    1\n",
       "Length: 10409, dtype: int64"
      ]
     },
     "execution_count": 107,
     "metadata": {},
     "output_type": "execute_result"
    }
   ],
   "source": [
    "my_count = pd.Series(positive).value_counts()\n",
    "my_count"
   ]
  },
  {
   "cell_type": "code",
   "execution_count": 108,
   "metadata": {
    "collapsed": true
   },
   "outputs": [],
   "source": [
    "# Many positive feedback the most common positive feedbacks are:\n",
    "# Price\n",
    "# Quick and easy\n",
    "# Easy to use website"
   ]
  },
  {
   "cell_type": "code",
   "execution_count": 109,
   "metadata": {
    "collapsed": true
   },
   "outputs": [],
   "source": [
    "sentences = ['Reviewer left no comment']\n",
    "\n",
    "for sentence in sentences:\n",
    "    while sentence in positive:\n",
    "        positive.remove(sentence)"
   ]
  },
  {
   "cell_type": "code",
   "execution_count": 110,
   "metadata": {},
   "outputs": [
    {
     "data": {
      "text/plain": [
       "11989"
      ]
     },
     "execution_count": 110,
     "metadata": {},
     "output_type": "execute_result"
    }
   ],
   "source": [
    "len(positive) # compare to 4605 negative"
   ]
  },
  {
   "cell_type": "code",
   "execution_count": 111,
   "metadata": {
    "collapsed": true
   },
   "outputs": [],
   "source": [
    "thefile = open('positive.txt', 'w')\n",
    "for item in positive:\n",
    "  thefile.write(\"%s\\n\" % item)\n",
    "thefile.close()"
   ]
  },
  {
   "cell_type": "code",
   "execution_count": 112,
   "metadata": {
    "collapsed": true
   },
   "outputs": [],
   "source": [
    "with open('positive.txt') as positive:\n",
    "    positive = positive.read()"
   ]
  },
  {
   "cell_type": "code",
   "execution_count": 113,
   "metadata": {
    "collapsed": true
   },
   "outputs": [],
   "source": [
    "# Count number of words including punctuation"
   ]
  },
  {
   "cell_type": "code",
   "execution_count": 114,
   "metadata": {},
   "outputs": [
    {
     "name": "stdout",
     "output_type": "stream",
     "text": [
      "Total number of tokens: 127404\n"
     ]
    }
   ],
   "source": [
    "from nltk.tokenize import word_tokenize\n",
    "\n",
    "try:  # py3\n",
    "    all_tokens = [t for t in word_tokenize(positive)]\n",
    "except UnicodeDecodeError:  # py27\n",
    "    all_tokens = [t for t in word_tokenize(corpus_all_in_one.decode('utf-8'))]\n",
    "\n",
    "print(\"Total number of tokens: {}\".format(len(all_tokens)))"
   ]
  },
  {
   "cell_type": "code",
   "execution_count": 115,
   "metadata": {},
   "outputs": [
    {
     "name": "stdout",
     "output_type": "stream",
     "text": [
      "to\t6399\n",
      ".\t6020\n",
      "and\t4815\n",
      "easy\t3176\n",
      "the\t3020\n",
      ",\t2460\n",
      "Easy\t2026\n",
      "price\t1908\n",
      "for\t1788\n",
      "a\t1775\n",
      "I\t1742\n",
      "was\t1650\n",
      "of\t1567\n",
      "with\t1372\n",
      "good\t1348\n",
      "very\t1261\n",
      "on\t1214\n",
      "use\t1165\n",
      "my\t1155\n",
      "insurance\t1110\n"
     ]
    }
   ],
   "source": [
    "from collections import Counter\n",
    "\n",
    "total_term_frequency = Counter(all_tokens)\n",
    "\n",
    "for word, freq in total_term_frequency.most_common(20):\n",
    "    print(\"{}\\t{}\".format(word, freq))"
   ]
  },
  {
   "cell_type": "code",
   "execution_count": 116,
   "metadata": {},
   "outputs": [
    {
     "name": "stdout",
     "output_type": "stream",
     "text": [
      "easy\t3176\n",
      "Easy\t2026\n",
      "price\t1908\n",
      "I\t1742\n",
      "good\t1348\n",
      "use\t1165\n",
      "insurance\t1110\n",
      "value\t1059\n",
      "Very\t1026\n",
      "quote\t912\n",
      "cover\t897\n",
      "website\t850\n",
      "Good\t840\n",
      "online\t702\n",
      "purchase\t674\n",
      "The\t655\n",
      "LV\t634\n",
      "money\t627\n",
      "car\t617\n",
      "service\t563\n"
     ]
    }
   ],
   "source": [
    "for content in positive:\n",
    "    tokens = word_tokenize(content)\n",
    "    \n",
    "stop_list = stopwords.words('english') + list(string.punctuation)\n",
    "\n",
    "tokens_no_stop = [token for token in all_tokens\n",
    "                        if token not in stop_list]\n",
    "\n",
    "total_term_frequency_no_stop = Counter(tokens_no_stop)\n",
    "\n",
    "for word, freq in total_term_frequency_no_stop.most_common(20):\n",
    "    print(\"{}\\t{}\".format(word, freq))"
   ]
  },
  {
   "cell_type": "code",
   "execution_count": 117,
   "metadata": {},
   "outputs": [
    {
     "name": "stdout",
     "output_type": "stream",
     "text": [
      "easi\t5236\n",
      "price\t2535\n",
      "good\t2205\n",
      "insur\t1733\n",
      "use\t1396\n",
      "valu\t1193\n",
      "quot\t1107\n",
      "cover\t1037\n",
      "websit\t992\n",
      "quick\t989\n",
      "purchas\t785\n",
      "competit\t769\n",
      "onlin\t744\n",
      "car\t708\n",
      "lv\t686\n",
      "money\t636\n",
      "servic\t624\n",
      "great\t617\n",
      "site\t596\n",
      "compani\t541\n"
     ]
    }
   ],
   "source": [
    "for content in positive:\n",
    "    tokens = word_tokenize(content)\n",
    "\n",
    "from nltk.stem import PorterStemmer\n",
    "\n",
    "stemmer = PorterStemmer()\n",
    "all_tokens_lower = [t.lower() for t in all_tokens]\n",
    "\n",
    "tokens_no_stop = [token for token in all_tokens\n",
    "                        if token not in stop_list]\n",
    "\n",
    "tokens_normalised = [stemmer.stem(t) for t in all_tokens_lower\n",
    "                                     if t not in stop_list]\n",
    "\n",
    "total_term_frequency_no_stop = Counter(tokens_no_stop)\n",
    "\n",
    "total_term_frequency_normalised = Counter(tokens_normalised)\n",
    "\n",
    "for word, freq in total_term_frequency_normalised.most_common(20):\n",
    "    print(\"{}\\t{}\".format(word, freq))"
   ]
  },
  {
   "cell_type": "code",
   "execution_count": 118,
   "metadata": {
    "collapsed": true
   },
   "outputs": [],
   "source": [
    "# We can see that the most common phrases are: \n",
    "# easy\n",
    "# price\n",
    "# quick\n",
    "# service"
   ]
  },
  {
   "cell_type": "code",
   "execution_count": 119,
   "metadata": {},
   "outputs": [
    {
     "name": "stdout",
     "output_type": "stream",
     "text": [
      "('Easy', 'use', 'website', 'competitive', 'price')\t5\n",
      "('Best', 'price', 'I', 'could', 'find')\t5\n",
      "('Easy', 'use', 'website', 'good', 'value')\t5\n",
      "('value', 'money', 'Easy', 'use', 'website')\t4\n",
      "('Quick', 'easy', 'good', 'value', 'money')\t4\n",
      "('price', 'Very', 'easy', 'use', 'website')\t4\n",
      "('value', 'money', 'Good', 'value', 'money')\t4\n",
      "('good', 'price', 'Easy', 'use', 'website')\t4\n",
      "('use', 'website', 'Easy', 'use', 'website')\t4\n",
      "('easy', 'use', 'Easy', 'use', 'website')\t4\n",
      "('company', 'Easy', 'use', 'web', 'site')\t4\n",
      "('Good', 'customer', 'service', 'value', 'money')\t3\n",
      "('cheaper', 'previous', 'insurer', 'Very', 'easy')\t3\n",
      "('Easy', 'use', 'website', 'Easy', 'use')\t3\n",
      "('Very', 'easy', 'use', 'website', 'great')\t3\n",
      "('easy', 'use', 'website', 'great', 'value')\t3\n",
      "('Great', 'value', 'money', 'Good', 'value')\t3\n",
      "('Have', 'used', 'LV', 'many', 'years')\t3\n",
      "('Very', 'competitive', 'pricing', 'Easy', 'use')\t3\n",
      "('easy', 'get', 'quote', 'good', 'price')\t3\n",
      "('Easy', 'use', 'website', 'Very', 'competitive')\t3\n",
      "('Good', 'value', 'easy', 'use', 'website')\t3\n",
      "('Very', 'good', 'value', 'money', 'easy')\t3\n",
      "('price', 'web', 'site', 'easy', 'use')\t3\n",
      "('web', 'site', 'easy', 'use', 'good')\t3\n",
      "('Easy', 'use', 'web', 'site', 'Easy')\t3\n",
      "('good', 'value', 'money', 'Quick', 'easy')\t3\n",
      "('Easy', 'use', 'website', 'Great', 'price')\t3\n",
      "('good', 'price', 'Good', 'value', 'money')\t3\n",
      "('easy', 'use', 'Good', 'value', 'money')\t3\n",
      "('Quick', 'easy', 'Easy', 'use', 'website')\t3\n",
      "('cheaper', 'renewal', 'quote', 'previous', 'insurer')\t3\n",
      "('The', 'whole', 'process', 'quick', 'easy')\t3\n",
      "('Easy', 'use', 'website', 'good', 'price')\t3\n",
      "('Good', 'value', 'money', 'Very', 'easy')\t3\n",
      "('Good', 'value', 'easy', 'use', 'site')\t3\n",
      "('Very', 'easy', 'use', 'website', 'Very')\t2\n",
      "('reasonable', 'cost', 'Easy', 'understand', 'website')\t2\n",
      "('sort', 'online', 'Great', 'value', 'money')\t2\n",
      "('use', 'website', 'competitive', 'price', 'Easy')\t2\n",
      "('Easy', 'get', 'quote', 'competitive', 'compared')\t2\n",
      "('get', 'quote', 'competitive', 'compared', '``')\t2\n",
      "('quote', 'competitive', 'compared', '``', 'quality')\t2\n",
      "('competitive', 'compared', '``', 'quality', \"''\")\t2\n",
      "('compared', '``', 'quality', \"''\", 'rivals')\t2\n",
      "('``', 'quality', \"''\", 'rivals', 'judged')\t2\n",
      "('quality', \"''\", 'rivals', 'judged', 'near')\t2\n",
      "(\"''\", 'rivals', 'judged', 'near', 'top')\t2\n",
      "('rivals', 'judged', 'near', 'top', 'Which')\t2\n",
      "('judged', 'near', 'top', 'Which', 'recommended')\t2\n"
     ]
    }
   ],
   "source": [
    "# The most popular opinion are: \n",
    "# Easy to use website, competittive price\n",
    "# Best price I could find\n",
    "# Good customer serivce and value for money\n",
    "# cheaper renewal quote than previous insurer\n",
    "# \n",
    "phrases = Counter(ngrams(tokens_no_stop, 5))\n",
    "\n",
    "from nltk import ngrams\n",
    "\n",
    "for phrase, freq in phrases.most_common(50):\n",
    "    print(\"{}\\t{}\".format(phrase, freq))"
   ]
  },
  {
   "cell_type": "code",
   "execution_count": null,
   "metadata": {
    "collapsed": true
   },
   "outputs": [],
   "source": []
  },
  {
   "cell_type": "code",
   "execution_count": null,
   "metadata": {
    "collapsed": true
   },
   "outputs": [],
   "source": []
  },
  {
   "cell_type": "code",
   "execution_count": 120,
   "metadata": {
    "collapsed": true
   },
   "outputs": [],
   "source": [
    "# Point 3: Identify some unique experiences expressed by customers.\n",
    "# It leads from point 2 <negative> "
   ]
  },
  {
   "cell_type": "code",
   "execution_count": 121,
   "metadata": {
    "collapsed": true
   },
   "outputs": [],
   "source": [
    "# Website kept going round cricles, took longer need done\n",
    "# Each year send automatic renewal even if each year he check website\n",
    "# Standard cover could include additional extras\n",
    "# Easy to include second car\n"
   ]
  },
  {
   "cell_type": "code",
   "execution_count": null,
   "metadata": {
    "collapsed": true
   },
   "outputs": [],
   "source": []
  },
  {
   "cell_type": "code",
   "execution_count": 122,
   "metadata": {
    "collapsed": true
   },
   "outputs": [],
   "source": [
    "# For visualisation techniques please refer to wordcloud"
   ]
  },
  {
   "cell_type": "code",
   "execution_count": null,
   "metadata": {
    "collapsed": true
   },
   "outputs": [],
   "source": []
  },
  {
   "cell_type": "code",
   "execution_count": null,
   "metadata": {
    "collapsed": true
   },
   "outputs": [],
   "source": []
  }
 ],
 "metadata": {
  "kernelspec": {
   "display_name": "Python 3",
   "language": "python",
   "name": "python3"
  },
  "language_info": {
   "codemirror_mode": {
    "name": "ipython",
    "version": 3
   },
   "file_extension": ".py",
   "mimetype": "text/x-python",
   "name": "python",
   "nbconvert_exporter": "python",
   "pygments_lexer": "ipython3",
   "version": "3.6.3"
  }
 },
 "nbformat": 4,
 "nbformat_minor": 2
}
